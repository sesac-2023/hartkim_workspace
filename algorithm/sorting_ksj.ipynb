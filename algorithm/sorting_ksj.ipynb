{
 "cells": [
  {
   "attachments": {},
   "cell_type": "markdown",
   "metadata": {},
   "source": [
    "## 삽입 정렬"
   ]
  },
  {
   "cell_type": "code",
   "execution_count": 11,
   "metadata": {},
   "outputs": [],
   "source": [
    "def solution(array: list):\n",
    "    answer = []\n",
    "    # 1) 내가 정렬할 index를 설정한다. 0번째는 확인할 필요가 없으므로, 1부터 시작한다.\n",
    "    i = 1\n",
    "    # 2) 내 앞의 있는 배열을 가장 가까운 곳부터 먼 곳으로 대소비교한다.\n",
    "\n",
    "    j = 0\n",
    "\n",
    "    now_value = array[i] # 현재 값\n",
    "    target_value = array[j] # 비교 대상 값\n",
    "    print('현재 값:', now_value, '인덱스', i)\n",
    "    print('비교 값:', target_value, '인덱스', j)\n",
    "    # 2-1) 나보다 값이 클 경우, 해당 위치의 값과 내 위치의 값을 서로 교환한다.\n",
    "    # 2-2) 나보다 값이 작거나 같을 경우, 교환하지 않고 현재 회차를 종료한다.\n",
    "    if target_value > now_value:\n",
    "        array[i], array[j] = array[j], array[i] # 값 교환 pythonic\n",
    "        i = j\n",
    "        j -= 1\n",
    "    else:\n",
    "        pass\n",
    "\n",
    "    print('현재 값:', array[i], '인덱스', i)\n",
    "    print('비교 값:', array[j], '인덱스', j) # - 인덱스 지원함\n",
    "    if i == 0:\n",
    "        # 다음 회차로 넘어간다.\n",
    "        pass\n",
    "\n",
    "    print(array)\n",
    "    # 3) 정렬을 시작할 index를 1 증가시키고, 2)의 과정을 반복한다.\n",
    "    i = 2\n",
    "    j = 1\n",
    "\n",
    "    now_value = array[i]\n",
    "    target_value = array[j]\n",
    "    if target_value > now_value:\n",
    "        array[i], array[j] = array[j], array[i]\n",
    "        i = j\n",
    "        j -= 1\n",
    "    else:\n",
    "        pass\n",
    "    print(array)\n",
    "    print(i, j)\n",
    "\n",
    "    now_value = array[i]\n",
    "    target_value = array[j]\n",
    "    if target_value > now_value:\n",
    "        array[i], array[j] = array[j], array[i]\n",
    "        i = j\n",
    "        j -= 1\n",
    "    else:\n",
    "        print('값 교환하지 않음')\n",
    "        pass\n",
    "\n",
    "    print(array)\n",
    "    print(i, j)\n",
    "\n",
    "    # 4) 배열의 맨 마지막 index까지 진행하고, 정렬된 배열을 반환한다.\n",
    "\n",
    "    return answer"
   ]
  },
  {
   "cell_type": "code",
   "execution_count": 13,
   "metadata": {},
   "outputs": [],
   "source": [
    "def solution(array: list):\n",
    "    answer = []\n",
    "    # 1) 내가 정렬할 index를 설정한다. 0번째는 확인할 필요가 없으므로, 1부터 시작한다.\n",
    "    i = 1\n",
    "    # 2) 내 앞의 있는 배열을 가장 가까운 곳부터 먼 곳으로 대소비교한다.\n",
    "    \n",
    "    # range(내 앞의 값부터, -1까지 = 0까지, 1씩 감소)\n",
    "    for j in range(i-1, 0-1, -1):\n",
    "        now_value = array[i] # 현재 값\n",
    "        target_value = array[j] # 비교 대상 값\n",
    "\n",
    "        # 2-1) 나보다 값이 클 경우, 해당 위치의 값과 내 위치의 값을 서로 교환한다.\n",
    "        # 2-2) 나보다 값이 작거나 같을 경우, 교환하지 않고 현재 회차를 종료한다.\n",
    "        if target_value > now_value:\n",
    "            array[i], array[j] = array[j], array[i] # 값 교환 pythonic\n",
    "            i = j # 현재 index를 j로 변경 (앞으로 이동)\n",
    "        else:\n",
    "            break\n",
    "\n",
    "    print(array)\n",
    "\n",
    "    # 3) 정렬을 시작할 index를 1 증가시키고, 2)의 과정을 반복한다.\n",
    "    i = 2\n",
    "\n",
    "    for j in range(i-1, 0-1, -1):\n",
    "        now_value = array[i] # 현재 값\n",
    "        target_value = array[j] # 비교 대상 값\n",
    "\n",
    "        # 2-1) 나보다 값이 클 경우, 해당 위치의 값과 내 위치의 값을 서로 교환한다.\n",
    "        # 2-2) 나보다 값이 작거나 같을 경우, 교환하지 않고 현재 회차를 종료한다.\n",
    "        if target_value > now_value:\n",
    "            array[i], array[j] = array[j], array[i] # 값 교환 pythonic\n",
    "            i = j # 현재 index를 j로 변경 (앞으로 이동)\n",
    "        else:\n",
    "            break\n",
    "\n",
    "    print(array)\n",
    "\n",
    "    i = 3\n",
    "\n",
    "    for j in range(i-1, 0-1, -1):\n",
    "        now_value = array[i] # 현재 값\n",
    "        target_value = array[j] # 비교 대상 값\n",
    "\n",
    "        # 2-1) 나보다 값이 클 경우, 해당 위치의 값과 내 위치의 값을 서로 교환한다.\n",
    "        # 2-2) 나보다 값이 작거나 같을 경우, 교환하지 않고 현재 회차를 종료한다.\n",
    "        if target_value > now_value:\n",
    "            array[i], array[j] = array[j], array[i] # 값 교환 pythonic\n",
    "            i = j # 현재 index를 j로 변경 (앞으로 이동)\n",
    "        else:\n",
    "            break\n",
    "\n",
    "    print(array)\n",
    "\n",
    "    # 4) 배열의 맨 마지막 index까지 진행하고, 정렬된 배열을 반환한다.\n",
    "\n",
    "    return answer"
   ]
  },
  {
   "cell_type": "code",
   "execution_count": 15,
   "metadata": {},
   "outputs": [],
   "source": [
    "def solution(array: list):\n",
    "    answer = []\n",
    "    # 1) 내가 정렬할 index를 설정한다. 0번째는 확인할 필요가 없으므로, 1부터 시작한다.\n",
    "\n",
    "    for i in range(1, len(array)):\n",
    "        # 2) 내 앞의 있는 배열을 가장 가까운 곳부터 먼 곳으로 대소비교한다.\n",
    "        # range(내 앞의 값부터, -1까지 = 0까지, 1씩 감소)\n",
    "        for j in range(i-1, 0-1, -1):\n",
    "            now_value = array[i] # 현재 값\n",
    "            target_value = array[j] # 비교 대상 값\n",
    "\n",
    "            # 2-1) 나보다 값이 클 경우, 해당 위치의 값과 내 위치의 값을 서로 교환한다.\n",
    "            # 2-2) 나보다 값이 작거나 같을 경우, 교환하지 않고 현재 회차를 종료한다.\n",
    "            if target_value > now_value:\n",
    "                array[i], array[j] = array[j], array[i] # 값 교환 pythonic\n",
    "                i = j # 현재 index를 j로 변경 (앞으로 이동)\n",
    "            else:\n",
    "                break\n",
    "\n",
    "        print(array)\n",
    "\n",
    "    # 3) 정렬을 시작할 index를 1 증가시키고, 2)의 과정을 반복한다.\n",
    "    # 4) 배열의 맨 마지막 index까지 진행하고, 정렬된 배열을 반환한다.\n",
    "\n",
    "    return answer"
   ]
  },
  {
   "cell_type": "code",
   "execution_count": 18,
   "metadata": {},
   "outputs": [],
   "source": [
    "# 리스트가 같은지 체크 \n",
    "# 3.6 버전에서는 값을 비교해줘서 True가 나오지만, \n",
    "# 고버전에서는 Object(객체) 자체를 비교해주기 때문에 일치하지 않으면 False를 반환함\n",
    "arr1 = [0, 1, 2, 3, 4, 5]\n",
    "arr2 = [0, 1, 2, 3, 4, 5, 6]\n",
    "\n",
    "def list_value_check(arr1, arr2):\n",
    "    if len(arr1) != len(arr2): return False\n",
    "\n",
    "    for i in range(len(arr1)):\n",
    "        if arr1[i] != arr2[i]:\n",
    "            return False\n",
    "    return True"
   ]
  },
  {
   "cell_type": "code",
   "execution_count": 19,
   "metadata": {},
   "outputs": [
    {
     "name": "stdout",
     "output_type": "stream",
     "text": [
      "[0, 3, 1, 8, 7, 2, 5, 4, 9, 6]\n",
      "[0, 1, 3, 8, 7, 2, 5, 4, 9, 6]\n",
      "[0, 1, 3, 8, 7, 2, 5, 4, 9, 6]\n",
      "[0, 1, 3, 7, 8, 2, 5, 4, 9, 6]\n",
      "[0, 1, 2, 3, 7, 8, 5, 4, 9, 6]\n",
      "[0, 1, 2, 3, 5, 7, 8, 4, 9, 6]\n",
      "[0, 1, 2, 3, 4, 5, 7, 8, 9, 6]\n",
      "[0, 1, 2, 3, 4, 5, 7, 8, 9, 6]\n",
      "[0, 1, 2, 3, 4, 5, 6, 7, 8, 9]\n",
      "테스트 성공\n"
     ]
    }
   ],
   "source": [
    "if list_value_check(solution([3, 0, 1, 8, 7, 2, 5, 4, 9, 6]), list(range(10))):\n",
    "    print('테스트 성공')\n",
    "else:\n",
    "    print('테스트 실패')"
   ]
  },
  {
   "cell_type": "code",
   "execution_count": 21,
   "metadata": {},
   "outputs": [
    {
     "name": "stdout",
     "output_type": "stream",
     "text": [
      "[0, 3, 1, 8, 7, 2, 5, 4, 9, 6]\n",
      "[0, 1, 3, 8, 7, 2, 5, 4, 9, 6]\n",
      "[0, 1, 3, 8, 7, 2, 5, 4, 9, 6]\n",
      "[0, 1, 3, 7, 8, 2, 5, 4, 9, 6]\n",
      "[0, 1, 2, 3, 7, 8, 5, 4, 9, 6]\n",
      "[0, 1, 2, 3, 5, 7, 8, 4, 9, 6]\n",
      "[0, 1, 2, 3, 4, 5, 7, 8, 9, 6]\n",
      "[0, 1, 2, 3, 4, 5, 7, 8, 9, 6]\n",
      "[0, 1, 2, 3, 4, 5, 6, 7, 8, 9]\n"
     ]
    }
   ],
   "source": [
    "temp1 = solution([3, 0, 1, 8, 7, 2, 5, 4, 9, 6]) \n",
    "temp2 = list(range(10))"
   ]
  },
  {
   "cell_type": "code",
   "execution_count": 22,
   "metadata": {},
   "outputs": [
    {
     "data": {
      "text/plain": [
       "(2461898007168, 2461891226944)"
      ]
     },
     "execution_count": 22,
     "metadata": {},
     "output_type": "execute_result"
    }
   ],
   "source": [
    "# 메모리 주소가 다름 (서로 다른 객체)\n",
    "id(temp1), id(temp2)"
   ]
  },
  {
   "attachments": {},
   "cell_type": "markdown",
   "metadata": {},
   "source": [
    "### 선택정렬"
   ]
  },
  {
   "cell_type": "code",
   "execution_count": null,
   "metadata": {},
   "outputs": [],
   "source": []
  },
  {
   "attachments": {},
   "cell_type": "markdown",
   "metadata": {},
   "source": [
    "#### K번째 수"
   ]
  },
  {
   "cell_type": "code",
   "execution_count": 1,
   "metadata": {},
   "outputs": [],
   "source": [
    "array = [1, 5, 2, 6, 3, 7, 4] # 인덱스가 0부터 시작\n",
    "commands = [[2, 5, 3], [4, 4, 1], [1, 7, 3]] # 인덱스가 0부터 시작"
   ]
  },
  {
   "cell_type": "code",
   "execution_count": 11,
   "metadata": {},
   "outputs": [
    {
     "data": {
      "text/plain": [
       "[2, 6, 3]"
      ]
     },
     "execution_count": 11,
     "metadata": {},
     "output_type": "execute_result"
    }
   ],
   "source": [
    "# 조건에서 원하는것 처럼 두번째 부터 자르고 싶다면 인덱스 자체로는 1이어야함.\n",
    "# [2,5,3] 은 2번째부터 5번째 자르는 것이다. 근데 인덱스적으로 2:5를 하면 [2,6,3]이다.\n",
    "# 그래서 1:5를 해줘야 함 그래서 i값에 -1을 빼주는 것이다\n",
    "array[2:5]"
   ]
  },
  {
   "cell_type": "code",
   "execution_count": 6,
   "metadata": {},
   "outputs": [
    {
     "name": "stdout",
     "output_type": "stream",
     "text": [
      "1\n",
      "3\n",
      "0\n"
     ]
    }
   ],
   "source": [
    "for index in range(len(commands)):\n",
    "    i = commands[index][0]-1\n",
    "    print(i)"
   ]
  },
  {
   "cell_type": "code",
   "execution_count": null,
   "metadata": {},
   "outputs": [],
   "source": [
    "def solution(array, commands):\n",
    "    answer = []\n",
    "    for index in range(len(commands)):\n",
    "        i = commands[index][0]-1 \n",
    "        j = commands[index][1]\n",
    "        k = commands[index][2]-1\n",
    "        subArray = array[i:j]\n",
    "        subArray.sort()\n",
    "        answer.append(subArray[k])\n",
    "    return answer"
   ]
  },
  {
   "cell_type": "markdown",
   "metadata": {},
   "source": [
    "#### H-Index"
   ]
  },
  {
   "cell_type": "code",
   "execution_count": 25,
   "metadata": {},
   "outputs": [],
   "source": [
    "citations = [3, 0, 6, 1, 5]"
   ]
  },
  {
   "cell_type": "code",
   "execution_count": 27,
   "metadata": {},
   "outputs": [],
   "source": [
    "citations.sort()"
   ]
  },
  {
   "cell_type": "code",
   "execution_count": 28,
   "metadata": {},
   "outputs": [
    {
     "data": {
      "text/plain": [
       "[0, 1, 3, 5, 6]"
      ]
     },
     "execution_count": 28,
     "metadata": {},
     "output_type": "execute_result"
    }
   ],
   "source": [
    "citations"
   ]
  },
  {
   "cell_type": "code",
   "execution_count": 41,
   "metadata": {},
   "outputs": [
    {
     "data": {
      "text/plain": [
       "True"
      ]
     },
     "execution_count": 41,
     "metadata": {},
     "output_type": "execute_result"
    }
   ],
   "source": [
    "len(citations[:3]) == len(citations[2:])"
   ]
  },
  {
   "cell_type": "code",
   "execution_count": 47,
   "metadata": {},
   "outputs": [
    {
     "name": "stdout",
     "output_type": "stream",
     "text": [
      "0\n",
      "1\n",
      "3\n",
      "5\n",
      "6\n"
     ]
    }
   ],
   "source": [
    "for i in range(len(citations)):\n",
    "    print(citations[i])"
   ]
  },
  {
   "cell_type": "code",
   "execution_count": 51,
   "metadata": {},
   "outputs": [
    {
     "ename": "SyntaxError",
     "evalue": "'return' outside function (185091049.py, line 7)",
     "output_type": "error",
     "traceback": [
      "\u001b[1;36m  Cell \u001b[1;32mIn[51], line 7\u001b[1;36m\u001b[0m\n\u001b[1;33m    return answer\u001b[0m\n\u001b[1;37m    ^\u001b[0m\n\u001b[1;31mSyntaxError\u001b[0m\u001b[1;31m:\u001b[0m 'return' outside function\n"
     ]
    }
   ],
   "source": [
    "for i in range(len(citations)):\n",
    "    if len(citations[:i+1]) == len(citations[i:]):\n",
    "        answer = i\n",
    "    else:\n",
    "        pass\n",
    "\n",
    " \n"
   ]
  },
  {
   "cell_type": "code",
   "execution_count": 54,
   "metadata": {},
   "outputs": [],
   "source": [
    "def solution(citations):\n",
    "    \n",
    "    answer = 0\n",
    "\n",
    "    for i in range(len(citations)):\n",
    "        if len(citations[:i+1]) == len(citations[i:]):\n",
    "            answer = i+1\n",
    "        else:\n",
    "            pass\n",
    "    return answer"
   ]
  },
  {
   "cell_type": "code",
   "execution_count": 55,
   "metadata": {},
   "outputs": [
    {
     "data": {
      "text/plain": [
       "3"
      ]
     },
     "execution_count": 55,
     "metadata": {},
     "output_type": "execute_result"
    }
   ],
   "source": [
    "solution(citations)"
   ]
  },
  {
   "cell_type": "code",
   "execution_count": null,
   "metadata": {},
   "outputs": [],
   "source": []
  }
 ],
 "metadata": {
  "kernelspec": {
   "display_name": "base",
   "language": "python",
   "name": "python3"
  },
  "language_info": {
   "codemirror_mode": {
    "name": "ipython",
    "version": 3
   },
   "file_extension": ".py",
   "mimetype": "text/x-python",
   "name": "python",
   "nbconvert_exporter": "python",
   "pygments_lexer": "ipython3",
   "version": "3.9.9"
  },
  "orig_nbformat": 4
 },
 "nbformat": 4,
 "nbformat_minor": 2
}
