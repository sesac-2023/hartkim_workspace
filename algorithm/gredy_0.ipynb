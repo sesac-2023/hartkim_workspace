{
 "cells": [
  {
   "attachments": {},
   "cell_type": "markdown",
   "metadata": {},
   "source": [
    "### 알고리즘 문제풀이를 위한 셋팅"
   ]
  },
  {
   "cell_type": "code",
   "execution_count": 10,
   "metadata": {},
   "outputs": [],
   "source": [
    "def solution(N):\n",
    "    answer = 0\n",
    "    #1. 전체로직\n",
    "    # 1. 가장 큰 단위의 동전으로 거슬러 줄 수 있는 최대 동전 개수를 구한다.\n",
    "    now_coin = 500\n",
    "    while N >= now_coin:\n",
    "        N -= now_coin # 남은 금액\n",
    "        answer += 1 #500원짜리로 코인을 하나 거슬러 준거임\n",
    "\n",
    "    print('---500원---')\n",
    "    print('남은금액', N)\n",
    "    print('사용한 동전 개수', answer)        \n",
    "\n",
    "    now_coin = 100\n",
    "    while N >= now_coin:\n",
    "        N -= now_coin # 남은 금액\n",
    "        answer += 1 \n",
    "\n",
    "    print('---100원---')\n",
    "    print('남은금액', N)\n",
    "    print('사용한 동전 개수', answer)        \n",
    "\n",
    "\n",
    "    now_coin = 50\n",
    "    while N >= now_coin:\n",
    "        N -= now_coin # 남은 금액\n",
    "        answer += 1 \n",
    "\n",
    "    print('---50원---')\n",
    "    print('남은금액', N)\n",
    "    print('사용한 동전 개수', answer)        \n",
    "\n",
    "\n",
    "    now_coin = 10\n",
    "    while N >= now_coin:\n",
    "        N -= now_coin # 남은 금액\n",
    "        answer += 1 \n",
    "\n",
    "    print('---10원---')\n",
    "    print('남은금액', N)\n",
    "    print('사용한 동전 개수', answer)        \n",
    "\n",
    "\n",
    "\n",
    "    # 2. 그것을 정답에 더해주고, 남은 금액에 다음 단위의 코인을 가지고 1의 과정을 반복한다.\n",
    "\n",
    "    # 3. 10원짜리 까지 진행하고 정답을 반환한다.\n",
    "    return answer"
   ]
  },
  {
   "cell_type": "code",
   "execution_count": 12,
   "metadata": {},
   "outputs": [],
   "source": [
    "def solution(N):\n",
    "    answer = 0\n",
    "    coins = [500,100,50,10] #어떤 코인이 있는지 미리 정의\n",
    "    for now_coin in coins:\n",
    "        while N >= now_coin:\n",
    "            N -= now_coin\n",
    "            answer += 1\n",
    "        print('--{}원--'.format(now_coin))\n",
    "        print('남은금액',N)\n",
    "        print('사용한 동전개수',answer)\n",
    "\n",
    "\n",
    "    return answer"
   ]
  },
  {
   "cell_type": "code",
   "execution_count": 14,
   "metadata": {},
   "outputs": [],
   "source": [
    "# 리펙토링 : 코드를 정리한다 느낌으로 생각하면 된다.\n",
    "\n",
    "def solution(N):\n",
    "    answer = 0\n",
    "    coins = [500,100,50,10] #어떤 코인이 있는지 미리 정의\n",
    "\n",
    "    for now_coin in coins:\n",
    "        # //(몫), %(나머지) 를 쓰면 된다.\n",
    "        answer+=N // now_coin #사용한 동전갯수\n",
    "        N %= now_coin #남은 금액\n",
    "\n",
    "        print('--{}원--'.format(now_coin))\n",
    "        print('남은금액',N)\n",
    "        print('사용한 동전개수',answer)\n",
    "    \n",
    "    return answer\n",
    "\n"
   ]
  },
  {
   "attachments": {},
   "cell_type": "markdown",
   "metadata": {},
   "source": [
    "### TDD\n",
    "- 테스트 주도형 개발방식"
   ]
  },
  {
   "cell_type": "code",
   "execution_count": 15,
   "metadata": {},
   "outputs": [
    {
     "name": "stdout",
     "output_type": "stream",
     "text": [
      "--500원--\n",
      "남은금액 260\n",
      "사용한 동전개수 2\n",
      "--100원--\n",
      "남은금액 60\n",
      "사용한 동전개수 4\n",
      "--50원--\n",
      "남은금액 10\n",
      "사용한 동전개수 5\n",
      "--10원--\n",
      "남은금액 0\n",
      "사용한 동전개수 6\n",
      "테스트 성공\n",
      "여기는 실행 됨\n"
     ]
    }
   ],
   "source": [
    "if solution(1260) == 6:\n",
    "    print(\"테스트 성공\")\n",
    "else:\n",
    "    print(\"테스트 실패\")\n",
    "\n",
    "print(\"여기는 실행 됨\")"
   ]
  },
  {
   "cell_type": "code",
   "execution_count": 4,
   "metadata": {},
   "outputs": [
    {
     "ename": "AssertionError",
     "evalue": "테스트 실패",
     "output_type": "error",
     "traceback": [
      "\u001b[1;31m---------------------------------------------------------------------------\u001b[0m",
      "\u001b[1;31mAssertionError\u001b[0m                            Traceback (most recent call last)",
      "Cell \u001b[1;32mIn[4], line 1\u001b[0m\n\u001b[1;32m----> 1\u001b[0m \u001b[39massert\u001b[39;00m solution(\u001b[39m1260\u001b[39m) \u001b[39m==\u001b[39m\u001b[39m6\u001b[39m, \u001b[39m\"\u001b[39m\u001b[39m테스트 실패\u001b[39m\u001b[39m\"\u001b[39m \u001b[39m#False일 경우 assert같은 error를 발생시키는 것, 테스트 케이스를 먼저 정의하고 개발\u001b[39;00m\n\u001b[0;32m      2\u001b[0m \u001b[39mprint\u001b[39m(\u001b[39m\"\u001b[39m\u001b[39m실행안됨?\u001b[39m\u001b[39m\"\u001b[39m)\n\u001b[0;32m      4\u001b[0m \u001b[39m# 적용하는 곳이 많진 않다.\u001b[39;00m\n",
      "\u001b[1;31mAssertionError\u001b[0m: 테스트 실패"
     ]
    }
   ],
   "source": [
    "assert solution(1260) ==6, \"테스트 실패\" #False일 경우 assert같은 error를 발생시키는 것, 테스트 케이스를 먼저 정의하고 개발\n",
    "print(\"실행안됨?\") # 위와 차이는 여기는 실패하면 밑에 내용이 안나온다잉\n",
    "\n",
    "# 적용하는 곳이 많진 않다."
   ]
  },
  {
   "attachments": {},
   "cell_type": "markdown",
   "metadata": {},
   "source": [
    "#### 프로그래머스 코딩기초 푸는중.."
   ]
  },
  {
   "cell_type": "code",
   "execution_count": null,
   "metadata": {},
   "outputs": [],
   "source": [
    "def solution(n, lost, reserve):\n",
    "    answer = 0\n",
    "    return answer"
   ]
  },
  {
   "cell_type": "code",
   "execution_count": 40,
   "metadata": {},
   "outputs": [
    {
     "name": "stdout",
     "output_type": "stream",
     "text": [
      "['A', 'B', 'c', 'd', 'e', 'F', 'G']\n"
     ]
    }
   ],
   "source": [
    "# 대문자 -> 소문자\n",
    "# 소문자 -> 대문자 로 변환\n",
    "\n",
    "# isupper() 대문자인지 확인하는 함수? 대문자 이면 True\n",
    "# islower() 소문자인지 확인하는 함수 소문자 이면 True\n",
    "\n",
    "str = \"abCDEfg\"\n",
    "result = []\n",
    "for i in (str):\n",
    "    if i.isupper(): #대문자인지 확인\n",
    "        i = i.lower()\n",
    "        result += i\n",
    "\n",
    "    else:\n",
    "        i = i.upper()\n",
    "        result += i\n",
    "\n",
    "print(result)\n",
    "    "
   ]
  },
  {
   "cell_type": "code",
   "execution_count": 49,
   "metadata": {},
   "outputs": [
    {
     "name": "stdout",
     "output_type": "stream",
     "text": [
      "ABCD"
     ]
    }
   ],
   "source": [
    "str = input()\n",
    "\n",
    "result = []\n",
    "for i in (str):\n",
    "    if i.isupper(): #대문자인지 확인\n",
    "        i = i.lower()\n",
    "\n",
    "    else:\n",
    "        i = i.upper()\n",
    "\n",
    "    print(i, end='')"
   ]
  },
  {
   "cell_type": "code",
   "execution_count": 62,
   "metadata": {},
   "outputs": [
    {
     "name": "stdout",
     "output_type": "stream",
     "text": [
      "100 is even\n"
     ]
    }
   ],
   "source": [
    "a = 100\n",
    "if a%2 ==0:\n",
    "    print(a,\"is even\")\n",
    "else:\n",
    "    print(a,\"is odd\")"
   ]
  },
  {
   "cell_type": "code",
   "execution_count": 69,
   "metadata": {},
   "outputs": [],
   "source": [
    "def solution(my_string, overwrite_string, s):\n",
    "\n",
    "    answer = my_string[:s]+overwrite_string\n",
    "    return answer"
   ]
  },
  {
   "cell_type": "code",
   "execution_count": 70,
   "metadata": {},
   "outputs": [
    {
     "data": {
      "text/plain": [
       "'ProgrammerS123'"
      ]
     },
     "execution_count": 70,
     "metadata": {},
     "output_type": "execute_result"
    }
   ],
   "source": [
    "solution(\"Program29b8UYP\",\"merS123\",7)"
   ]
  },
  {
   "cell_type": "code",
   "execution_count": 87,
   "metadata": {},
   "outputs": [],
   "source": [
    "a = \"He11oWor1ddddd\"\n",
    "b = \"lloWorl\"\n",
    "s = 2"
   ]
  },
  {
   "cell_type": "code",
   "execution_count": 88,
   "metadata": {},
   "outputs": [
    {
     "name": "stdout",
     "output_type": "stream",
     "text": [
      "HelloWorlddddd\n"
     ]
    }
   ],
   "source": [
    "if len(a[s:]) > len(b):\n",
    "    c = len(a[s:]) - len(b)\n",
    "    print(a[:s] + b + a[-c:])\n",
    "else:\n",
    "    print(\"hi\")"
   ]
  },
  {
   "cell_type": "code",
   "execution_count": 84,
   "metadata": {},
   "outputs": [
    {
     "data": {
      "text/plain": [
       "8"
      ]
     },
     "execution_count": 84,
     "metadata": {},
     "output_type": "execute_result"
    }
   ],
   "source": [
    "len(a[s:])"
   ]
  },
  {
   "cell_type": "code",
   "execution_count": 85,
   "metadata": {},
   "outputs": [
    {
     "data": {
      "text/plain": [
       "7"
      ]
     },
     "execution_count": 85,
     "metadata": {},
     "output_type": "execute_result"
    }
   ],
   "source": [
    "len(b)"
   ]
  },
  {
   "cell_type": "code",
   "execution_count": 91,
   "metadata": {},
   "outputs": [],
   "source": [
    "def solution(my_string, overwrite_string, s):\n",
    "    if len(my_string[s:]) > len(overwrite_string):\n",
    "        c = len(my_string[s:]) - len(overwrite_string)\n",
    "        answer = (my_string[:s] + overwrite_string + my_string[-c:])\n",
    "    else:\n",
    "        answer = my_string[:s]+overwrite_string\n",
    "    return answer"
   ]
  },
  {
   "cell_type": "code",
   "execution_count": 92,
   "metadata": {},
   "outputs": [
    {
     "data": {
      "text/plain": [
       "'HelloWorlddddd'"
      ]
     },
     "execution_count": 92,
     "metadata": {},
     "output_type": "execute_result"
    }
   ],
   "source": [
    "solution(\"He11oWor1ddddd\",\"lloWorl\",2)"
   ]
  },
  {
   "cell_type": "code",
   "execution_count": null,
   "metadata": {},
   "outputs": [],
   "source": []
  }
 ],
 "metadata": {
  "kernelspec": {
   "display_name": "base",
   "language": "python",
   "name": "python3"
  },
  "language_info": {
   "codemirror_mode": {
    "name": "ipython",
    "version": 3
   },
   "file_extension": ".py",
   "mimetype": "text/x-python",
   "name": "python",
   "nbconvert_exporter": "python",
   "pygments_lexer": "ipython3",
   "version": "3.9.9"
  },
  "orig_nbformat": 4
 },
 "nbformat": 4,
 "nbformat_minor": 2
}
