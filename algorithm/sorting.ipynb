{
 "cells": [
  {
   "attachments": {},
   "cell_type": "markdown",
   "metadata": {},
   "source": [
    "## 삽입 정렬"
   ]
  },
  {
   "cell_type": "code",
   "execution_count": 11,
   "metadata": {},
   "outputs": [],
   "source": [
    "def solution(array: list):\n",
    "    answer = []\n",
    "    # 1) 내가 정렬할 index를 설정한다. 0번째는 확인할 필요가 없으므로, 1부터 시작한다.\n",
    "    i = 1\n",
    "    # 2) 내 앞의 있는 배열을 가장 가까운 곳부터 먼 곳으로 대소비교한다.\n",
    "\n",
    "    j = 0\n",
    "\n",
    "    now_value = array[i] # 현재 값\n",
    "    target_value = array[j] # 비교 대상 값\n",
    "    print('현재 값:', now_value, '인덱스', i)\n",
    "    print('비교 값:', target_value, '인덱스', j)\n",
    "    # 2-1) 나보다 값이 클 경우, 해당 위치의 값과 내 위치의 값을 서로 교환한다.\n",
    "    # 2-2) 나보다 값이 작거나 같을 경우, 교환하지 않고 현재 회차를 종료한다.\n",
    "    if target_value > now_value:\n",
    "        array[i], array[j] = array[j], array[i] # 값 교환 pythonic\n",
    "        i = j\n",
    "        j -= 1\n",
    "    else:\n",
    "        pass\n",
    "\n",
    "    print('현재 값:', array[i], '인덱스', i)\n",
    "    print('비교 값:', array[j], '인덱스', j) # - 인덱스 지원함\n",
    "    if i == 0:\n",
    "        # 다음 회차로 넘어간다.\n",
    "        pass\n",
    "\n",
    "    print(array)\n",
    "    # 3) 정렬을 시작할 index를 1 증가시키고, 2)의 과정을 반복한다.\n",
    "    i = 2\n",
    "    j = 1\n",
    "\n",
    "    now_value = array[i]\n",
    "    target_value = array[j]\n",
    "    if target_value > now_value:\n",
    "        array[i], array[j] = array[j], array[i]\n",
    "        i = j\n",
    "        j -= 1\n",
    "    else:\n",
    "        pass\n",
    "    print(array)\n",
    "    print(i, j)\n",
    "\n",
    "    now_value = array[i]\n",
    "    target_value = array[j]\n",
    "    if target_value > now_value:\n",
    "        array[i], array[j] = array[j], array[i]\n",
    "        i = j\n",
    "        j -= 1\n",
    "    else:\n",
    "        print('값 교환하지 않음')\n",
    "        pass\n",
    "\n",
    "    print(array)\n",
    "    print(i, j)\n",
    "\n",
    "    # 4) 배열의 맨 마지막 index까지 진행하고, 정렬된 배열을 반환한다.\n",
    "\n",
    "    return answer"
   ]
  },
  {
   "cell_type": "code",
   "execution_count": 13,
   "metadata": {},
   "outputs": [],
   "source": [
    "def solution(array: list):\n",
    "    answer = []\n",
    "    # 1) 내가 정렬할 index를 설정한다. 0번째는 확인할 필요가 없으므로, 1부터 시작한다.\n",
    "    i = 1\n",
    "    # 2) 내 앞의 있는 배열을 가장 가까운 곳부터 먼 곳으로 대소비교한다.\n",
    "    \n",
    "    # range(내 앞의 값부터, -1까지 = 0까지, 1씩 감소)\n",
    "    for j in range(i-1, 0-1, -1):\n",
    "        now_value = array[i] # 현재 값\n",
    "        target_value = array[j] # 비교 대상 값\n",
    "\n",
    "        # 2-1) 나보다 값이 클 경우, 해당 위치의 값과 내 위치의 값을 서로 교환한다.\n",
    "        # 2-2) 나보다 값이 작거나 같을 경우, 교환하지 않고 현재 회차를 종료한다.\n",
    "        if target_value > now_value:\n",
    "            array[i], array[j] = array[j], array[i] # 값 교환 pythonic\n",
    "            i = j # 현재 index를 j로 변경 (앞으로 이동)\n",
    "        else:\n",
    "            break\n",
    "\n",
    "    print(array)\n",
    "\n",
    "    # 3) 정렬을 시작할 index를 1 증가시키고, 2)의 과정을 반복한다.\n",
    "    i = 2\n",
    "\n",
    "    for j in range(i-1, 0-1, -1):\n",
    "        now_value = array[i] # 현재 값\n",
    "        target_value = array[j] # 비교 대상 값\n",
    "\n",
    "        # 2-1) 나보다 값이 클 경우, 해당 위치의 값과 내 위치의 값을 서로 교환한다.\n",
    "        # 2-2) 나보다 값이 작거나 같을 경우, 교환하지 않고 현재 회차를 종료한다.\n",
    "        if target_value > now_value:\n",
    "            array[i], array[j] = array[j], array[i] # 값 교환 pythonic\n",
    "            i = j # 현재 index를 j로 변경 (앞으로 이동)\n",
    "        else:\n",
    "            break\n",
    "\n",
    "    print(array)\n",
    "\n",
    "    i = 3\n",
    "\n",
    "    for j in range(i-1, 0-1, -1):\n",
    "        now_value = array[i] # 현재 값\n",
    "        target_value = array[j] # 비교 대상 값\n",
    "\n",
    "        # 2-1) 나보다 값이 클 경우, 해당 위치의 값과 내 위치의 값을 서로 교환한다.\n",
    "        # 2-2) 나보다 값이 작거나 같을 경우, 교환하지 않고 현재 회차를 종료한다.\n",
    "        if target_value > now_value:\n",
    "            array[i], array[j] = array[j], array[i] # 값 교환 pythonic\n",
    "            i = j # 현재 index를 j로 변경 (앞으로 이동)\n",
    "        else:\n",
    "            break\n",
    "\n",
    "    print(array)\n",
    "\n",
    "    # 4) 배열의 맨 마지막 index까지 진행하고, 정렬된 배열을 반환한다.\n",
    "\n",
    "    return answer"
   ]
  },
  {
   "cell_type": "code",
   "execution_count": 42,
   "metadata": {},
   "outputs": [],
   "source": [
    "def solution(array: list):\n",
    "    answer = []\n",
    "    # 1) 내가 정렬할 index를 설정한다. 0번째는 확인할 필요가 없으므로, 1부터 시작한다.\n",
    "\n",
    "    for i in range(1, len(array)):\n",
    "        # 2) 내 앞의 있는 배열을 가장 가까운 곳부터 먼 곳으로 대소비교한다.\n",
    "        # range(내 앞의 값부터, -1까지 = 0까지, 1씩 감소)\n",
    "        for j in range(i-1, 0-1, -1):\n",
    "            now_value = array[i] # 현재 값\n",
    "            target_value = array[j] # 비교 대상 값\n",
    "\n",
    "            # 2-1) 나보다 값이 클 경우, 해당 위치의 값과 내 위치의 값을 서로 교환한다.\n",
    "            # 2-2) 나보다 값이 작거나 같을 경우, 교환하지 않고 현재 회차를 종료한다.\n",
    "            if target_value > now_value:\n",
    "                array[i], array[j] = array[j], array[i] # 값 교환 pythonic\n",
    "                i = j # 현재 index를 j로 변경 (앞으로 이동)\n",
    "            else:\n",
    "                break\n",
    "\n",
    "        print(array)\n",
    "\n",
    "    # 3) 정렬을 시작할 index를 1 증가시키고, 2)의 과정을 반복한다.\n",
    "    # 4) 배열의 맨 마지막 index까지 진행하고, 정렬된 배열을 반환한다.\n",
    "    return answer"
   ]
  },
  {
   "cell_type": "code",
   "execution_count": 44,
   "metadata": {},
   "outputs": [],
   "source": [
    "# 리스트가 같은지 체크 \n",
    "# 파이썬에서는 배열의 요소비교를 지원하기 때문에 객체비교가 필요하고,\n",
    "# 다른 언어에서는 요소 비교시 아래의 함수를 활용해 볼 수 있음.\n",
    "arr1 = [0, 1, 2, 3, 4, 5]\n",
    "arr2 = [0, 1, 2, 3, 4, 5, 6]\n",
    "\n",
    "def list_value_check(arr1, arr2):\n",
    "    if len(arr1) != len(arr2): return False\n",
    "\n",
    "    for i in range(len(arr1)):\n",
    "        if arr1[i] != arr2[i]:\n",
    "            return False\n",
    "    return True"
   ]
  },
  {
   "cell_type": "code",
   "execution_count": 34,
   "metadata": {},
   "outputs": [
    {
     "name": "stdout",
     "output_type": "stream",
     "text": [
      "[0, 3, 1, 8, 7, 2, 5, 4, 9, 6]\n",
      "[0, 1, 3, 8, 7, 2, 5, 4, 9, 6]\n",
      "[0, 1, 3, 8, 7, 2, 5, 4, 9, 6]\n",
      "[0, 1, 3, 7, 8, 2, 5, 4, 9, 6]\n",
      "[0, 1, 2, 3, 7, 8, 5, 4, 9, 6]\n",
      "[0, 1, 2, 3, 5, 7, 8, 4, 9, 6]\n",
      "[0, 1, 2, 3, 4, 5, 7, 8, 9, 6]\n",
      "[0, 1, 2, 3, 4, 5, 7, 8, 9, 6]\n",
      "[0, 1, 2, 3, 4, 5, 6, 7, 8, 9]\n",
      "테스트 성공\n"
     ]
    }
   ],
   "source": [
    "if solution([3, 0, 1, 8, 7, 2, 5, 4, 9, 6]) == list(range(10)):\n",
    "    print('테스트 성공')\n",
    "else:\n",
    "    print('테스트 실패')"
   ]
  },
  {
   "cell_type": "code",
   "execution_count": 46,
   "metadata": {},
   "outputs": [
    {
     "name": "stdout",
     "output_type": "stream",
     "text": [
      "[0, 3, 1, 8, 7, 2, 5, 4, 9, 6]\n",
      "[0, 1, 3, 8, 7, 2, 5, 4, 9, 6]\n",
      "[0, 1, 3, 8, 7, 2, 5, 4, 9, 6]\n",
      "[0, 1, 3, 7, 8, 2, 5, 4, 9, 6]\n",
      "[0, 1, 2, 3, 7, 8, 5, 4, 9, 6]\n",
      "[0, 1, 2, 3, 5, 7, 8, 4, 9, 6]\n",
      "[0, 1, 2, 3, 4, 5, 7, 8, 9, 6]\n",
      "[0, 1, 2, 3, 4, 5, 7, 8, 9, 6]\n",
      "[0, 1, 2, 3, 4, 5, 6, 7, 8, 9]\n",
      "테스트 실패\n"
     ]
    }
   ],
   "source": [
    "if list_value_check(solution([3, 0, 1, 8, 7, 2, 5, 4, 9, 6]), list(range(10))):\n",
    "    print('테스트 성공')\n",
    "else:\n",
    "    print('테스트 실패')"
   ]
  },
  {
   "cell_type": "code",
   "execution_count": 47,
   "metadata": {},
   "outputs": [
    {
     "name": "stdout",
     "output_type": "stream",
     "text": [
      "[0, 3, 1, 8, 7, 2, 5, 4, 9, 6]\n",
      "[0, 1, 3, 8, 7, 2, 5, 4, 9, 6]\n",
      "[0, 1, 3, 8, 7, 2, 5, 4, 9, 6]\n",
      "[0, 1, 3, 7, 8, 2, 5, 4, 9, 6]\n",
      "[0, 1, 2, 3, 7, 8, 5, 4, 9, 6]\n",
      "[0, 1, 2, 3, 5, 7, 8, 4, 9, 6]\n",
      "[0, 1, 2, 3, 4, 5, 7, 8, 9, 6]\n",
      "[0, 1, 2, 3, 4, 5, 7, 8, 9, 6]\n",
      "[0, 1, 2, 3, 4, 5, 6, 7, 8, 9]\n"
     ]
    }
   ],
   "source": [
    "temp1 = solution([3, 0, 1, 8, 7, 2, 5, 4, 9, 6]) \n",
    "temp2 = list(range(10))"
   ]
  },
  {
   "cell_type": "code",
   "execution_count": 48,
   "metadata": {},
   "outputs": [
    {
     "name": "stdout",
     "output_type": "stream",
     "text": [
      "[] [0, 1, 2, 3, 4, 5, 6, 7, 8, 9]\n"
     ]
    },
    {
     "data": {
      "text/plain": [
       "(2461898820672, 2461884565376)"
      ]
     },
     "execution_count": 48,
     "metadata": {},
     "output_type": "execute_result"
    }
   ],
   "source": [
    "# 메모리 주소가 다름 (서로 다른 객체)\n",
    "# 하지만 파이썬에서는 배열의 요소를 비교해주기 때문에 == 비교시 True가 나옴\n",
    "print(temp1, temp2)\n",
    "id(temp1), id(temp2)"
   ]
  },
  {
   "cell_type": "code",
   "execution_count": null,
   "metadata": {},
   "outputs": [],
   "source": []
  },
  {
   "attachments": {},
   "cell_type": "markdown",
   "metadata": {},
   "source": [
    "## 선택 정렬\n",
    "\n",
    "- 가장 작은 값부터 찾아 앞에서부터 정렬하는 방법 1\n",
    "- 가장 큰 값부터 찾아 뒤에서부터 정렬하는 방법 2"
   ]
  },
  {
   "cell_type": "code",
   "execution_count": 49,
   "metadata": {},
   "outputs": [],
   "source": [
    "# 작은 값 찾아서 앞에서부터 정렬\n",
    "def solution(array):\n",
    "    answer = []\n",
    "    # 0번째 index에 들어갈 -> 큰 반복문\n",
    "    # 가장 작은 값을 찾아서 -> 작은 반복문\n",
    "    # 서로 교환해주는 것\n",
    "\n",
    "    # 0번째 인덱스부터 해당 위치에 들어갈 값을 찾음 \n",
    "    # (마지막 -1번째 때 정렬이 완료됨)\n",
    "    for i in range(len(array) - 1):\n",
    "        # i번째 인덱스부터 끝까지 배열을 확인해서 가장 작은 값을 찾는다. (그 위치도)\n",
    "        min_value = array[i]\n",
    "        min_index = i\n",
    "        for j, v in enumerate(array[i+1:], start=i+1):\n",
    "            if v < min_value:\n",
    "                min_value = v\n",
    "                min_index = j\n",
    "        \n",
    "        # 해당 위치를 가장 작은 값과 교환\n",
    "        array[i], array[min_index] = array[min_index], array[i]\n",
    "\n",
    "    return array"
   ]
  },
  {
   "cell_type": "code",
   "execution_count": 70,
   "metadata": {},
   "outputs": [],
   "source": [
    "# 작은 값 찾아서 앞에서부터 정렬\n",
    "def solution(array):\n",
    "    answer = []\n",
    "    # 0번째 index에 들어갈 -> 큰 반복문\n",
    "    # 가장 작은 값을 찾아서 -> 작은 반복문\n",
    "    # 서로 교환해주는 것\n",
    "\n",
    "    # 0번째 인덱스부터 해당 위치에 들어갈 값을 찾음 \n",
    "    # (마지막 -1번째 때 정렬이 완료됨)\n",
    "    for i in range(len(array) - 1):\n",
    "        # i번째 인덱스부터 끝까지 배열을 확인해서 가장 작은 값을 찾는다. (그 위치도)\n",
    "        min_value = min(array[i:])\n",
    "        min_index = i + array[i:].index(min_value)\n",
    "        # min_index = array.index(min_value) 예외케이스 - 중복값이 있을 경우\n",
    "        \n",
    "        # 해당 위치를 가장 작은 값과 교환\n",
    "        array[i], array[min_index] = array[min_index], array[i]\n",
    "\n",
    "    return array"
   ]
  },
  {
   "cell_type": "code",
   "execution_count": 72,
   "metadata": {},
   "outputs": [],
   "source": [
    "def solution(array):\n",
    "    # 큰 값부터 맨 끝에 정렬\n",
    "\n",
    "    # 맨 끝에서부터 1번 index까지\n",
    "    for i in range(len(array)-1, 0, -1):\n",
    "        max_value = array[i]\n",
    "        max_index = i\n",
    "\n",
    "        # 정렬된 곳 앞에까지만 확인 0 ~ i-1\n",
    "        for j, v in enumerate(array[:i], start=0):\n",
    "            if v > max_value:\n",
    "                max_value = v\n",
    "                max_index = j\n",
    "\n",
    "        array[i], array[max_index] = array[max_index], array[i]\n",
    "\n",
    "    return array"
   ]
  },
  {
   "cell_type": "code",
   "execution_count": 80,
   "metadata": {},
   "outputs": [],
   "source": [
    "def solution(array):\n",
    "    for i in range(len(array)-1, 0, -1):\n",
    "        max_value = max(array[:i+1])\n",
    "        max_index = array[:i+1].index(max_value)\n",
    "        array[i], array[max_index] = array[max_index], array[i]\n",
    "\n",
    "    return array"
   ]
  },
  {
   "cell_type": "code",
   "execution_count": 81,
   "metadata": {},
   "outputs": [
    {
     "data": {
      "text/plain": [
       "[0, 1, 2, 3, 3, 4, 5, 6, 7, 8, 9]"
      ]
     },
     "execution_count": 81,
     "metadata": {},
     "output_type": "execute_result"
    }
   ],
   "source": [
    "solution([3, 0, 1, 8, 7, 2, 5, 4, 9, 6, 3])"
   ]
  },
  {
   "cell_type": "code",
   "execution_count": 54,
   "metadata": {},
   "outputs": [
    {
     "name": "stdout",
     "output_type": "stream",
     "text": [
      "테스트 성공\n"
     ]
    }
   ],
   "source": [
    "if solution([3, 0, 1, 8, 7, 2, 5, 4, 9, 6]) == list(range(10)):\n",
    "    print('테스트 성공')\n",
    "else:\n",
    "    print('테스트 실패')"
   ]
  },
  {
   "cell_type": "code",
   "execution_count": null,
   "metadata": {},
   "outputs": [],
   "source": []
  },
  {
   "attachments": {},
   "cell_type": "markdown",
   "metadata": {},
   "source": [
    "## 버블 정렬"
   ]
  },
  {
   "cell_type": "code",
   "execution_count": null,
   "metadata": {},
   "outputs": [
    {
     "ename": "",
     "evalue": "",
     "output_type": "error",
     "traceback": [
      "\u001b[1;31mFailed to start the Kernel 'webc (Python 3.7.16)'. \n",
      "\u001b[1;31mView Jupyter <a href='command:jupyter.viewOutput'>log</a> for further details. listen EFAULT: bad address in system call argument 127.0.0.1:9013"
     ]
    }
   ],
   "source": [
    "def solution(array):\n",
    "    # 배열 길이의-1 만큼 도는 반복문 -> i\n",
    "\n",
    "    # [ 7 4 5 1 3 ]\n",
    "    # 배열 길이가 5일때 i가 0이라면, j는 0부터 3까지만 돈다.\n",
    "    # i = 0 \n",
    "    # j 는 range(4)\n",
    "\n",
    "    # [ 4 5 1 3 ] [ 7 ]\n",
    "    # i = 1\n",
    "    # j는 range(3)\n",
    "\n",
    "    # j는 0부터 range(len(array) - i - 1)\n",
    "\n",
    "    # 대소비교, j, j + 1 교환\n",
    "\n",
    "    for i in range(len(array)-1):\n",
    "        for j in range(len(array)-1-i):\n",
    "            # 다음 값이 더 크면,\n",
    "            if array[j] > array[j+1]:\n",
    "                # 교환\n",
    "                array[j], array[j+1] = array[j+1], array[j]\n",
    "    \n",
    "    return array"
   ]
  },
  {
   "cell_type": "code",
   "execution_count": 85,
   "metadata": {},
   "outputs": [
    {
     "data": {
      "text/plain": [
       "[0, 1, 2, 3, 4, 5, 6, 7, 8, 9]"
      ]
     },
     "execution_count": 85,
     "metadata": {},
     "output_type": "execute_result"
    }
   ],
   "source": [
    "solution([3, 0, 1, 8, 7, 2, 5, 4, 9, 6])"
   ]
  },
  {
   "cell_type": "code",
   "execution_count": 83,
   "metadata": {},
   "outputs": [
    {
     "name": "stdout",
     "output_type": "stream",
     "text": [
      "테스트 성공\n"
     ]
    }
   ],
   "source": [
    "if solution([3, 0, 1, 8, 7, 2, 5, 4, 9, 6]) == list(range(10)):\n",
    "    print('테스트 성공')\n",
    "else:\n",
    "    print('테스트 실패')"
   ]
  },
  {
   "cell_type": "code",
   "execution_count": null,
   "metadata": {},
   "outputs": [],
   "source": []
  },
  {
   "attachments": {},
   "cell_type": "markdown",
   "metadata": {},
   "source": [
    "## K번째 수"
   ]
  },
  {
   "cell_type": "code",
   "execution_count": 11,
   "metadata": {},
   "outputs": [],
   "source": [
    "def solution(array, commands):\n",
    "    answer = []\n",
    "    \n",
    "    # unpacking\n",
    "    # for i, j, k in commands:\n",
    "\n",
    "    # command가 여러번 들어온다.\n",
    "    for command in commands:\n",
    "        # command -> i, j, k / 리스트 unpacking\n",
    "        i, j, k = command\n",
    "        \n",
    "        # 요구하는 로직\n",
    "        # 1. array의 i번째부터 j번째까지 자르기\n",
    "        temp = array[i-1:j]\n",
    "        print(temp)\n",
    "\n",
    "        # 2. 1에서 나온 배열을 정렬\n",
    "        temp.sort() # 원본을 바꿈\n",
    "        # temp = sorted(temp) # 원본이 바뀌지 않고 정렬된 결과를 반환\n",
    "\n",
    "        # 3. 2에서 나온 배열의 k번째 숫자\n",
    "        answer.append(temp[k-1])\n",
    "\n",
    "        # 1.\n",
    "        array[i-1:j] # -> [5, 2, 6, 3]\n",
    "        # 2.\n",
    "        sorted(array[i-1:j]) # -> [2, 3, 5, 6]\n",
    "        # 3.\n",
    "        sorted(array[i-1:j])[k-1] # -> 5\n",
    "\n",
    "        # # why not?\n",
    "        # array[i-1:j].sort()[k-1] # -> 숙제\n",
    "    \n",
    "\n",
    "    # 한줄로?\n",
    "    # 1. list comprehension\n",
    "    [ sorted( array[ command[0]-1 : command[1] ] )[command[2]-1] \n",
    "        for command in commands]\n",
    "    \n",
    "    [sorted(array[i-1:j])[k-1] for i, j, k in commands]\n",
    "    \n",
    "    # 2. map, lambda\n",
    "    def func(x):\n",
    "        return sorted(array[ x[0]-1 : x[1] ])[x[2]-1]\n",
    "    \n",
    "    # command[0] = i\n",
    "    # command[1] = j\n",
    "    # command[2] = k\n",
    "    lambda command: sorted(array[ command[0]-1 : command[1] ])[command[2]-1]\n",
    "\n",
    "    list(map(lambda x: sorted(array[ x[0]-1 : x[1] ])[x[2]-1], commands))\n",
    "\n",
    "    return answer"
   ]
  },
  {
   "cell_type": "code",
   "execution_count": 12,
   "metadata": {},
   "outputs": [
    {
     "name": "stdout",
     "output_type": "stream",
     "text": [
      "[5, 2, 6, 3]\n",
      "[6]\n",
      "[1, 5, 2, 6, 3, 7, 4]\n",
      "테스트 성공\n"
     ]
    }
   ],
   "source": [
    "arr = [1, 5, 2, 6, 3, 7, 4]\n",
    "commands = [[2, 5, 3], [4, 4, 1], [1, 7, 3]]\n",
    "\n",
    "if solution(arr, commands) == [5, 6, 3]:\n",
    "    print('테스트 성공')\n",
    "else:\n",
    "    print('테스트 실패')"
   ]
  },
  {
   "cell_type": "code",
   "execution_count": null,
   "metadata": {},
   "outputs": [],
   "source": []
  }
 ],
 "metadata": {
  "kernelspec": {
   "display_name": "webc",
   "language": "python",
   "name": "webc"
  },
  "language_info": {
   "codemirror_mode": {
    "name": "ipython",
    "version": 3
   },
   "file_extension": ".py",
   "mimetype": "text/x-python",
   "name": "python",
   "nbconvert_exporter": "python",
   "pygments_lexer": "ipython3",
   "version": "3.7.16"
  },
  "orig_nbformat": 4
 },
 "nbformat": 4,
 "nbformat_minor": 2
}
