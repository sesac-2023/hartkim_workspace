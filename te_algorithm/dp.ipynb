{
 "cells": [
  {
   "cell_type": "code",
   "execution_count": 2,
   "metadata": {},
   "outputs": [],
   "source": [
    "def fibo(n):\n",
    "    if n == 1:\n",
    "        return 1\n",
    "    if n == 0:\n",
    "        return 1\n",
    "    \n",
    "    return fibo(n-1) + fibo(n-2)"
   ]
  },
  {
   "cell_type": "code",
   "execution_count": 10,
   "metadata": {},
   "outputs": [
    {
     "name": "stdout",
     "output_type": "stream",
     "text": [
      "63.57519006729126\n"
     ]
    }
   ],
   "source": [
    "import time\n",
    "\n",
    "start_time = time.time()\n",
    "fibo(40)\n",
    "print(time.time() - start_time)"
   ]
  },
  {
   "attachments": {},
   "cell_type": "markdown",
   "metadata": {},
   "source": [
    "### Dynamic Programming (Fibonacci)"
   ]
  },
  {
   "cell_type": "code",
   "execution_count": 13,
   "metadata": {},
   "outputs": [
    {
     "data": {
      "text/plain": [
       "[1, 1, 2, 3, 5]"
      ]
     },
     "execution_count": 13,
     "metadata": {},
     "output_type": "execute_result"
    }
   ],
   "source": [
    "fibo_list = [1, 1] # 0번째 항과, 1번째 항 1, 1 초기화\n",
    "\n",
    "# 5번째 항까지 구하려면?\n",
    "n = 2\n",
    "# fibo_list[2] = fibo_list[1] + fibo_list[0]\n",
    "fibo_list.append(fibo_list[1] + fibo_list[0])\n",
    "\n",
    "fibo_list\n",
    "# n = 3\n",
    "# fibo_list[3] = fibo_list[2] + fibo_list[1]\n",
    "fibo_list.append(fibo_list[2] + fibo_list[1])\n",
    "\n",
    "n = 4\n",
    "fibo_list.append(fibo_list[n-1] + fibo_list[n-2])\n",
    "\n",
    "fibo_list\n",
    "\n",
    "# n = 5"
   ]
  },
  {
   "cell_type": "code",
   "execution_count": 15,
   "metadata": {},
   "outputs": [
    {
     "data": {
      "text/plain": [
       "8"
      ]
     },
     "execution_count": 15,
     "metadata": {},
     "output_type": "execute_result"
    }
   ],
   "source": [
    "fibo_list = [1, 1]\n",
    "for n in range(2, 5+1):\n",
    "    fibo_list.append(fibo_list[n-1]+fibo_list[n-2])\n",
    "\n",
    "fibo_list[5]"
   ]
  },
  {
   "cell_type": "code",
   "execution_count": 19,
   "metadata": {},
   "outputs": [
    {
     "name": "stdout",
     "output_type": "stream",
     "text": [
      "0.006040811538696289\n"
     ]
    }
   ],
   "source": [
    "start_time = time.time()\n",
    "\n",
    "target = 10000\n",
    "\n",
    "fibo_list = [1, 1]\n",
    "for n in range(2, target+1):\n",
    "    fibo_list.append(fibo_list[n-1]+fibo_list[n-2])\n",
    "\n",
    "fibo_list[target]\n",
    "\n",
    "print(time.time() - start_time)"
   ]
  },
  {
   "attachments": {},
   "cell_type": "markdown",
   "metadata": {},
   "source": [
    "### 정수 삼각형"
   ]
  },
  {
   "cell_type": "code",
   "execution_count": null,
   "metadata": {},
   "outputs": [
    {
     "ename": "",
     "evalue": "",
     "output_type": "error",
     "traceback": [
      "\u001b[1;31mFailed to start the Kernel 'Python 3.9.9'. \n",
      "\u001b[1;31mView Jupyter <a href='command:jupyter.viewOutput'>log</a> for further details. listen EFAULT: bad address in system call argument 127.0.0.1:9004"
     ]
    }
   ],
   "source": [
    "triangle = [[7], [3, 8], [8, 1, 0], [2, 7, 4, 4], [4, 5, 2, 6, 5]]"
   ]
  },
  {
   "cell_type": "code",
   "execution_count": 27,
   "metadata": {},
   "outputs": [],
   "source": [
    "def solution(triangle):\n",
    "    answer = 0\n",
    "    # [print(tri) for tri in triangle]\n",
    "\n",
    "    # 어디로 갈 수 있는지?\n",
    "    # 메모이제이션, 어떤 걸 기억해서 써야되는지?\n",
    "    max_triangle = [ triangle[0] ] # [ [7], [10, 15], [22, 22, 22]  ]\n",
    "\n",
    "    for floor in range(1, len(triangle)): # 2층부터 삼각형 층수까지\n",
    "        row = triangle[floor]\n",
    "        temp = []\n",
    "        for i, v in enumerate(row):\n",
    "            # CASE 1: 맨 앞에 있을 때,\n",
    "            if i == 0:\n",
    "                temp.append(v + max_triangle[floor-1][0])\n",
    "            # CASE 2: 맨 뒤에 있을 때,\n",
    "            elif i == len(row)-1:\n",
    "                temp.append(v + max_triangle[floor-1][-1])\n",
    "            # CASE 3: 사이에 있을 때,\n",
    "            else:\n",
    "                temp.append(max(v + max_triangle[floor-1][i-1], v + max_triangle[floor-1][i]))\n",
    "        max_triangle.append(temp)\n",
    "\n",
    "    # 2층부터 시작해서\n",
    "    # 해당 위치(index)로 올 수 있는 값과 더한 뒤\n",
    "    # 그 중에 큰 값을 선택한다.\n",
    "\n",
    "    # [print(tri) for tri in max_triangle]\n",
    "\n",
    "    return max(max_triangle[-1])"
   ]
  },
  {
   "cell_type": "code",
   "execution_count": null,
   "metadata": {},
   "outputs": [
    {
     "ename": "SyntaxError",
     "evalue": "invalid syntax (2021940017.py, line 3)",
     "output_type": "error",
     "traceback": [
      "\u001b[1;36m  Cell \u001b[1;32mIn[26], line 3\u001b[1;36m\u001b[0m\n",
      "\u001b[1;33m    [3, 8] -> [ 3+7, 8+7 ]\u001b[0m\n",
      "\u001b[1;37m           ^\u001b[0m\n",
      "\u001b[1;31mSyntaxError\u001b[0m\u001b[1;31m:\u001b[0m invalid syntax\n"
     ]
    }
   ],
   "source": [
    "[7]\n",
    "\n",
    "[3, 8] -> [ 3+7, 8+7 ]\n",
    "\n",
    "[8, 1, 0] -> [ 11, max(3+1, 8+1), 8+0 ]"
   ]
  },
  {
   "cell_type": "code",
   "execution_count": 28,
   "metadata": {},
   "outputs": [
    {
     "name": "stdout",
     "output_type": "stream",
     "text": [
      "[7]\n",
      "[10, 15]\n",
      "[18, 16, 15]\n",
      "[20, 25, 20, 19]\n",
      "[24, 30, 27, 26, 24]\n",
      "테스트 실패\n"
     ]
    }
   ],
   "source": [
    "if solution(triangle) == 30:\n",
    "    print('테스트 성공')\n",
    "else:\n",
    "    print('테스트 실패')"
   ]
  },
  {
   "cell_type": "code",
   "execution_count": null,
   "metadata": {},
   "outputs": [],
   "source": []
  }
 ],
 "metadata": {
  "kernelspec": {
   "display_name": "base39",
   "language": "python",
   "name": "python3"
  },
  "language_info": {
   "codemirror_mode": {
    "name": "ipython",
    "version": 3
   },
   "file_extension": ".py",
   "mimetype": "text/x-python",
   "name": "python",
   "nbconvert_exporter": "python",
   "pygments_lexer": "ipython3",
   "version": "3.9.9"
  },
  "orig_nbformat": 4
 },
 "nbformat": 4,
 "nbformat_minor": 2
}
