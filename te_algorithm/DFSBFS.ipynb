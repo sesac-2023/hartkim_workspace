{
 "cells": [
  {
   "attachments": {},
   "cell_type": "markdown",
   "metadata": {},
   "source": [
    "## DFS, BFS"
   ]
  },
  {
   "cell_type": "code",
   "execution_count": null,
   "metadata": {},
   "outputs": [],
   "source": [
    "# 입력 받기"
   ]
  },
  {
   "cell_type": "code",
   "execution_count": 2,
   "metadata": {},
   "outputs": [],
   "source": [
    "input_text = \"\"\"4 5\n",
    "00110\n",
    "00011\n",
    "11111\n",
    "00000\"\"\""
   ]
  },
  {
   "cell_type": "code",
   "execution_count": 4,
   "metadata": {},
   "outputs": [
    {
     "data": {
      "text/plain": [
       "['4 5', '00110', '00011', '11111', '00000']"
      ]
     },
     "execution_count": 4,
     "metadata": {},
     "output_type": "execute_result"
    }
   ],
   "source": [
    "input_list = input_text.split('\\n')\n",
    "input_list"
   ]
  },
  {
   "cell_type": "code",
   "execution_count": 17,
   "metadata": {},
   "outputs": [
    {
     "data": {
      "text/plain": [
       "('4', '5')"
      ]
     },
     "execution_count": 17,
     "metadata": {},
     "output_type": "execute_result"
    }
   ],
   "source": [
    "N, M = input_list[0].split() # N, M\n",
    "N, M"
   ]
  },
  {
   "cell_type": "code",
   "execution_count": 21,
   "metadata": {},
   "outputs": [
    {
     "data": {
      "text/plain": [
       "(4, 5)"
      ]
     },
     "execution_count": 21,
     "metadata": {},
     "output_type": "execute_result"
    }
   ],
   "source": [
    "N, M = map(int, input_list[0].split())\n",
    "N, M"
   ]
  },
  {
   "attachments": {},
   "cell_type": "markdown",
   "metadata": {},
   "source": [
    "4 5  \n",
    "00110  \n",
    "00011  \n",
    "11111  \n",
    "00000  "
   ]
  },
  {
   "cell_type": "code",
   "execution_count": 49,
   "metadata": {},
   "outputs": [
    {
     "data": {
      "text/plain": [
       "['4', '5']"
      ]
     },
     "execution_count": 49,
     "metadata": {},
     "output_type": "execute_result"
    }
   ],
   "source": [
    "input_text.split('\\n')[0].split()"
   ]
  },
  {
   "cell_type": "code",
   "execution_count": 47,
   "metadata": {},
   "outputs": [],
   "source": [
    "N, M = map(int, input_text.split('\\n')[0].split())"
   ]
  },
  {
   "cell_type": "code",
   "execution_count": 48,
   "metadata": {},
   "outputs": [
    {
     "data": {
      "text/plain": [
       "(4, 5)"
      ]
     },
     "execution_count": 48,
     "metadata": {},
     "output_type": "execute_result"
    }
   ],
   "source": [
    "N, M"
   ]
  },
  {
   "cell_type": "code",
   "execution_count": 53,
   "metadata": {},
   "outputs": [
    {
     "name": "stdout",
     "output_type": "stream",
     "text": [
      "[0, 0, 1, 1, 0]\n",
      "[0, 0, 0, 1, 1]\n",
      "[1, 1, 1, 1, 1]\n",
      "[0, 0, 0, 0, 0]\n"
     ]
    }
   ],
   "source": [
    "# 1번째부터 -> N+1번째까지 얼음틀 형태\n",
    "ice_map = []\n",
    "for i in range(N):\n",
    "    line = []\n",
    "    for block in input_list[i+1]:\n",
    "        line.append(int(block))\n",
    "    print(line)\n",
    "    ice_map.append(line)"
   ]
  },
  {
   "cell_type": "code",
   "execution_count": 57,
   "metadata": {},
   "outputs": [
    {
     "data": {
      "text/plain": [
       "1"
      ]
     },
     "execution_count": 57,
     "metadata": {},
     "output_type": "execute_result"
    }
   ],
   "source": [
    "ice_map[2][2]"
   ]
  },
  {
   "cell_type": "code",
   "execution_count": 51,
   "metadata": {},
   "outputs": [
    {
     "name": "stdout",
     "output_type": "stream",
     "text": [
      "a\n",
      "b\n",
      "c\n",
      "d\n",
      "e\n"
     ]
    }
   ],
   "source": [
    "for a in 'abcde':\n",
    "    print(a)"
   ]
  },
  {
   "cell_type": "code",
   "execution_count": 30,
   "metadata": {},
   "outputs": [
    {
     "name": "stdout",
     "output_type": "stream",
     "text": [
      "00110\n",
      "00011\n",
      "11111\n",
      "00000\n"
     ]
    },
    {
     "data": {
      "text/plain": [
       "[[0, 0, 1, 1, 0], [0, 0, 0, 1, 1], [1, 1, 1, 1, 1], [0, 0, 0, 0, 0]]"
      ]
     },
     "execution_count": 30,
     "metadata": {},
     "output_type": "execute_result"
    }
   ],
   "source": [
    "ice_map = []\n",
    "for i in range(N):\n",
    "    print(input_list[i+1])\n",
    "    ice_map.append(list(map(int, input_list[i+1])))\n",
    "ice_map"
   ]
  },
  {
   "cell_type": "code",
   "execution_count": 35,
   "metadata": {},
   "outputs": [
    {
     "data": {
      "text/plain": [
       "1"
      ]
     },
     "execution_count": 35,
     "metadata": {},
     "output_type": "execute_result"
    }
   ],
   "source": [
    "ice_map[0][2]"
   ]
  },
  {
   "cell_type": "code",
   "execution_count": 37,
   "metadata": {},
   "outputs": [
    {
     "data": {
      "text/plain": [
       "[0, 0, 0, 0, 0]"
      ]
     },
     "execution_count": 37,
     "metadata": {},
     "output_type": "execute_result"
    }
   ],
   "source": [
    "line = []\n",
    "for block in '00000':\n",
    "    line.append(int(block))\n",
    "line"
   ]
  },
  {
   "cell_type": "code",
   "execution_count": 36,
   "metadata": {},
   "outputs": [
    {
     "data": {
      "text/plain": [
       "[0, 0, 0, 0, 0]"
      ]
     },
     "execution_count": 36,
     "metadata": {},
     "output_type": "execute_result"
    }
   ],
   "source": [
    "list(map(int, input_list[i+1]))"
   ]
  },
  {
   "cell_type": "code",
   "execution_count": 41,
   "metadata": {},
   "outputs": [
    {
     "name": "stdout",
     "output_type": "stream",
     "text": [
      "[0, 0, 1, 1, 0]\n",
      "[0, 0, 0, 1, 1]\n",
      "[1, 1, 1, 1, 1]\n",
      "[0, 0, 0, 0, 0]\n"
     ]
    },
    {
     "data": {
      "text/plain": [
       "[None, None, None, None]"
      ]
     },
     "execution_count": 41,
     "metadata": {},
     "output_type": "execute_result"
    }
   ],
   "source": [
    "[print(ice) for ice in ice_map]"
   ]
  },
  {
   "cell_type": "code",
   "execution_count": null,
   "metadata": {},
   "outputs": [],
   "source": []
  },
  {
   "attachments": {},
   "cell_type": "markdown",
   "metadata": {},
   "source": [
    "### 얼음 얼려먹기"
   ]
  },
  {
   "cell_type": "code",
   "execution_count": 16,
   "metadata": {},
   "outputs": [],
   "source": [
    "input_text = \"\"\"4 5\n",
    "00110\n",
    "00011\n",
    "11111\n",
    "00000\"\"\""
   ]
  },
  {
   "cell_type": "code",
   "execution_count": 17,
   "metadata": {},
   "outputs": [
    {
     "name": "stdout",
     "output_type": "stream",
     "text": [
      "4 5\n",
      "00110\n",
      "00011\n",
      "11111\n",
      "00000\n"
     ]
    }
   ],
   "source": [
    "print(input_text)"
   ]
  },
  {
   "cell_type": "code",
   "execution_count": 18,
   "metadata": {},
   "outputs": [
    {
     "data": {
      "text/plain": [
       "(4, 5)"
      ]
     },
     "execution_count": 18,
     "metadata": {},
     "output_type": "execute_result"
    }
   ],
   "source": [
    "N, M = map(int, input_text.split('\\n')[0].split())\n",
    "N, M"
   ]
  },
  {
   "cell_type": "code",
   "execution_count": 19,
   "metadata": {},
   "outputs": [],
   "source": [
    "input_list = input_text.split('\\n')"
   ]
  },
  {
   "cell_type": "code",
   "execution_count": 20,
   "metadata": {},
   "outputs": [
    {
     "data": {
      "text/plain": [
       "[[0, 0, 1, 1, 0], [0, 0, 0, 1, 1], [1, 1, 1, 1, 1], [0, 0, 0, 0, 0]]"
      ]
     },
     "execution_count": 20,
     "metadata": {},
     "output_type": "execute_result"
    }
   ],
   "source": [
    "ice_map = []\n",
    "for i in range(N):\n",
    "    ice_map.append(list( map(int, input_list[i+1]) ))\n",
    "ice_map"
   ]
  },
  {
   "cell_type": "code",
   "execution_count": 66,
   "metadata": {},
   "outputs": [
    {
     "data": {
      "text/plain": [
       "[[0, 0, 0, 0, 0], [0, 0, 0, 0, 0], [0, 0, 0, 0, 0], [0, 0, 0, 0, 0]]"
      ]
     },
     "execution_count": 66,
     "metadata": {},
     "output_type": "execute_result"
    }
   ],
   "source": [
    "# 물을 담지 않았으면 0, 담았으면 1\n",
    "visited = [[0] * M for _ in range(N)] # 물을 담았는지, 안담았는지 체크\n",
    "visited"
   ]
  },
  {
   "cell_type": "code",
   "execution_count": 68,
   "metadata": {},
   "outputs": [],
   "source": [
    "# 시작위치 (원래는 체크해야함)\n",
    "stack = [(0, 0)]"
   ]
  },
  {
   "cell_type": "code",
   "execution_count": 74,
   "metadata": {},
   "outputs": [],
   "source": [
    "# 다음 가야할 위치가 있는 동안만,\n",
    "def dfs(stack):\n",
    "    while stack:\n",
    "        pos = stack.pop() # 다음 위치를 꺼내준다.\n",
    "        # 체크 해줘야 하는 것\n",
    "        # 1. 물을 넣을 수 있는지\n",
    "        # 2. 이미 방문한곳은 아닌지\n",
    "        i, j = pos\n",
    "        if ice_map[pos[0]][pos[1]] == 0 and visited[pos[0]][pos[1]] == 0:\n",
    "            # 물부터 담기\n",
    "            visited[pos[0]][pos[1]] = 1\n",
    "\n",
    "            # 그 다음 갈 수 있는 위치를 탐색\n",
    "            # # CASE 1 : 위로 간다고 할 때\n",
    "            # next_pos = pos[0] - 1, pos[1]\n",
    "\n",
    "            # # 체크해줘야 하는 것\n",
    "            # # 1. 틀을 벗어나지는 않는지\n",
    "            # # 2. 방문하지 않았는지\n",
    "            # # 3. 벽인지 아닌지\n",
    "            # if -1 < next_pos[0] < N and -1 < next_pos[1] < M and \\\n",
    "            #     visited[next_pos[0]][next_pos[1]] == 0 and ice_map[next_pos[0]][next_pos[1]] == 0:\n",
    "            #     stack.append(next_pos)\n",
    "            \n",
    "            # # CASE 2: 아래로 간다고 할 때\n",
    "            # next_pos = pos[0] + 1, pos[1]\n",
    "\n",
    "            # if -1 < next_pos[0] < N and -1 < next_pos[1] < M and \\\n",
    "            #     visited[next_pos[0]][next_pos[1]] == 0 and ice_map[next_pos[0]][next_pos[1]] == 0:\n",
    "            #     stack.append(next_pos)\n",
    "            \n",
    "            # # CASE 3: 왼쪽으로 간다고 할 때\n",
    "            # next_pos = pos[0], pos[1] - 1\n",
    "            # # CASE 4: 오른쪽으로 간다고 할 때\n",
    "            # next_pos = pos[0], pos[1] + 1\n",
    "\n",
    "            move_dirs = [(-1, 0), (1, 0), (0, -1), (0, 1)] # 상, 하, 좌, 우\n",
    "            for move_dir in move_dirs:\n",
    "                next_pos = pos[0] + move_dir[0], pos[1] + move_dir[1]\n",
    "\n",
    "                # 체크 로직\n",
    "                if -1 < next_pos[0] < N and -1 < next_pos[1] < M and \\\n",
    "                    visited[next_pos[0]][next_pos[1]] == 0 and ice_map[next_pos[0]][next_pos[1]] == 0:\n",
    "                    stack.append(next_pos)\n",
    "\n",
    "        # DFS/BFS"
   ]
  },
  {
   "cell_type": "code",
   "execution_count": 70,
   "metadata": {},
   "outputs": [
    {
     "data": {
      "text/plain": [
       "[]"
      ]
     },
     "execution_count": 70,
     "metadata": {},
     "output_type": "execute_result"
    }
   ],
   "source": [
    "stack"
   ]
  },
  {
   "cell_type": "code",
   "execution_count": 72,
   "metadata": {},
   "outputs": [
    {
     "name": "stdout",
     "output_type": "stream",
     "text": [
      "[1, 1, 0, 0, 0]\n",
      "[1, 1, 1, 0, 0]\n",
      "[0, 0, 0, 0, 0]\n",
      "[0, 0, 0, 0, 0]\n"
     ]
    },
    {
     "data": {
      "text/plain": [
       "[None, None, None, None]"
      ]
     },
     "execution_count": 72,
     "metadata": {},
     "output_type": "execute_result"
    }
   ],
   "source": [
    "[print(ice) for ice in visited]"
   ]
  },
  {
   "cell_type": "code",
   "execution_count": 75,
   "metadata": {},
   "outputs": [
    {
     "name": "stdout",
     "output_type": "stream",
     "text": [
      "3\n"
     ]
    }
   ],
   "source": [
    "answer = 1\n",
    "for i in range(N): # i \n",
    "    for j in range(M): # j\n",
    "        # 다음 갈 수 있는 곳을 탐색\n",
    "        if visited[i][j] == 0 and ice_map[i][j] == 0:\n",
    "            stack = [(i, j)]\n",
    "            dfs(stack)\n",
    "            answer += 1\n",
    "print(answer)"
   ]
  },
  {
   "cell_type": "code",
   "execution_count": 76,
   "metadata": {},
   "outputs": [
    {
     "name": "stdout",
     "output_type": "stream",
     "text": [
      "[1, 1, 0, 0, 1]\n",
      "[1, 1, 1, 0, 0]\n",
      "[0, 0, 0, 0, 0]\n",
      "[1, 1, 1, 1, 1]\n"
     ]
    },
    {
     "data": {
      "text/plain": [
       "[None, None, None, None]"
      ]
     },
     "execution_count": 76,
     "metadata": {},
     "output_type": "execute_result"
    }
   ],
   "source": [
    "[print(ice) for ice in visited]"
   ]
  },
  {
   "cell_type": "code",
   "execution_count": 27,
   "metadata": {},
   "outputs": [],
   "source": [
    "def dfs(stack):\n",
    "    while stack:\n",
    "        print('현재 stack:', str(stack))\n",
    "        pos = stack.pop() \n",
    "        i, j = pos\n",
    "        if ice_map[pos[0]][pos[1]] == 0 and visited[pos[0]][pos[1]] == 0:\n",
    "            # 물부터 담기\n",
    "            visited[pos[0]][pos[1]] = 1\n",
    "\n",
    "            move_dirs = [(-1, 0), (1, 0), (0, -1), (0, 1)] # 상, 하, 좌, 우\n",
    "            for move_dir in move_dirs:\n",
    "                next_pos = pos[0] + move_dir[0], pos[1] + move_dir[1]\n",
    "\n",
    "                if -1 < next_pos[0] < N and -1 < next_pos[1] < M and \\\n",
    "                    visited[next_pos[0]][next_pos[1]] == 0 and ice_map[next_pos[0]][next_pos[1]] == 0:\n",
    "                    stack.append(next_pos)\n"
   ]
  },
  {
   "cell_type": "code",
   "execution_count": 2,
   "metadata": {},
   "outputs": [
    {
     "data": {
      "text/plain": [
       "[0, 1, 2, 3, 4]"
      ]
     },
     "execution_count": 2,
     "metadata": {},
     "output_type": "execute_result"
    }
   ],
   "source": [
    "temp = [0, 1, 2, 3, 4]\n",
    "temp"
   ]
  },
  {
   "cell_type": "code",
   "execution_count": 3,
   "metadata": {},
   "outputs": [
    {
     "data": {
      "text/plain": [
       "4"
      ]
     },
     "execution_count": 3,
     "metadata": {},
     "output_type": "execute_result"
    }
   ],
   "source": [
    "# stack 자료형은 뒤에서 뺄 때 소요시간 1\n",
    "temp.pop()"
   ]
  },
  {
   "cell_type": "code",
   "execution_count": 5,
   "metadata": {},
   "outputs": [
    {
     "data": {
      "text/plain": [
       "[0, 1, 2, 3, 4]"
      ]
     },
     "execution_count": 5,
     "metadata": {},
     "output_type": "execute_result"
    }
   ],
   "source": [
    "temp.append(4)\n",
    "temp"
   ]
  },
  {
   "cell_type": "code",
   "execution_count": 6,
   "metadata": {},
   "outputs": [
    {
     "data": {
      "text/plain": [
       "4"
      ]
     },
     "execution_count": 6,
     "metadata": {},
     "output_type": "execute_result"
    }
   ],
   "source": [
    "temp.pop()"
   ]
  },
  {
   "cell_type": "code",
   "execution_count": 13,
   "metadata": {},
   "outputs": [
    {
     "data": {
      "text/plain": [
       "0"
      ]
     },
     "execution_count": 13,
     "metadata": {},
     "output_type": "execute_result"
    }
   ],
   "source": [
    "# 강제로 맨 앞의 요소를 뺄 경우 길이 N만큼 소요시간이 발생\n",
    "temp.pop(0)"
   ]
  },
  {
   "cell_type": "code",
   "execution_count": 14,
   "metadata": {},
   "outputs": [
    {
     "data": {
      "text/plain": [
       "[1, 2, 3]"
      ]
     },
     "execution_count": 14,
     "metadata": {},
     "output_type": "execute_result"
    }
   ],
   "source": [
    "temp"
   ]
  },
  {
   "cell_type": "code",
   "execution_count": 7,
   "metadata": {},
   "outputs": [],
   "source": [
    "from collections import deque"
   ]
  },
  {
   "cell_type": "code",
   "execution_count": 8,
   "metadata": {},
   "outputs": [],
   "source": [
    "queue = deque([])"
   ]
  },
  {
   "cell_type": "code",
   "execution_count": 9,
   "metadata": {},
   "outputs": [],
   "source": [
    "queue.append(1)\n",
    "queue.append(2)\n",
    "queue.append(3)"
   ]
  },
  {
   "cell_type": "code",
   "execution_count": 10,
   "metadata": {},
   "outputs": [
    {
     "data": {
      "text/plain": [
       "deque([1, 2, 3])"
      ]
     },
     "execution_count": 10,
     "metadata": {},
     "output_type": "execute_result"
    }
   ],
   "source": [
    "queue"
   ]
  },
  {
   "cell_type": "code",
   "execution_count": 11,
   "metadata": {},
   "outputs": [
    {
     "data": {
      "text/plain": [
       "1"
      ]
     },
     "execution_count": 11,
     "metadata": {},
     "output_type": "execute_result"
    }
   ],
   "source": [
    "# queue는 왼쪽에서 뺄 때 소요시간이 1 (FIFO)\n",
    "queue.popleft()"
   ]
  },
  {
   "cell_type": "code",
   "execution_count": 12,
   "metadata": {},
   "outputs": [
    {
     "data": {
      "text/plain": [
       "deque([2, 3])"
      ]
     },
     "execution_count": 12,
     "metadata": {},
     "output_type": "execute_result"
    }
   ],
   "source": [
    "queue"
   ]
  },
  {
   "cell_type": "code",
   "execution_count": 25,
   "metadata": {},
   "outputs": [],
   "source": [
    "def bfs(queue):\n",
    "    while queue:\n",
    "        print('현재 queue:', str(queue))\n",
    "        pos = queue.popleft()\n",
    "        i, j = pos\n",
    "        if ice_map[pos[0]][pos[1]] == 0 and visited[pos[0]][pos[1]] == 0:\n",
    "            # 물부터 담기\n",
    "            visited[pos[0]][pos[1]] = 1\n",
    "\n",
    "            move_dirs = [(-1, 0), (1, 0), (0, -1), (0, 1)] # 상, 하, 좌, 우\n",
    "            for move_dir in move_dirs:\n",
    "                next_pos = pos[0] + move_dir[0], pos[1] + move_dir[1]\n",
    "\n",
    "                if -1 < next_pos[0] < N and -1 < next_pos[1] < M and \\\n",
    "                    visited[next_pos[0]][next_pos[1]] == 0 and ice_map[next_pos[0]][next_pos[1]] == 0:\n",
    "                    queue.append(next_pos)\n"
   ]
  },
  {
   "cell_type": "code",
   "execution_count": 28,
   "metadata": {},
   "outputs": [
    {
     "name": "stdout",
     "output_type": "stream",
     "text": [
      "현재 위치: [0, 0]\n",
      "현재 stack: [(0, 0)]\n",
      "현재 stack: [(1, 0), (0, 1)]\n",
      "현재 stack: [(1, 0), (1, 1)]\n",
      "현재 stack: [(1, 0), (1, 0), (1, 2)]\n",
      "현재 stack: [(1, 0), (1, 0)]\n",
      "현재 stack: [(1, 0)]\n",
      "현재 위치: [0, 4]\n",
      "현재 stack: [(0, 4)]\n",
      "현재 위치: [3, 0]\n",
      "현재 stack: [(3, 0)]\n",
      "현재 stack: [(3, 1)]\n",
      "현재 stack: [(3, 2)]\n",
      "현재 stack: [(3, 3)]\n",
      "현재 stack: [(3, 4)]\n",
      "3\n"
     ]
    }
   ],
   "source": [
    "visited = [[0] * M for _ in range(N)]\n",
    "\n",
    "answer = 0\n",
    "for i in range(N): # i \n",
    "    for j in range(M): # j\n",
    "        # 다음 갈 수 있는 곳을 탐색\n",
    "        if visited[i][j] == 0 and ice_map[i][j] == 0:\n",
    "            print('현재 위치:', str([i, j]))\n",
    "            stack = [(i, j)]\n",
    "            dfs(stack)\n",
    "            # queue = deque( [(i, j)] )\n",
    "            # bfs(queue)\n",
    "            # [print(ice) for ice in visited]\n",
    "            answer += 1\n",
    "\n",
    "print(answer)"
   ]
  },
  {
   "cell_type": "code",
   "execution_count": null,
   "metadata": {},
   "outputs": [],
   "source": []
  },
  {
   "cell_type": "code",
   "execution_count": null,
   "metadata": {},
   "outputs": [],
   "source": []
  }
 ],
 "metadata": {
  "kernelspec": {
   "display_name": "base",
   "language": "python",
   "name": "python3"
  },
  "language_info": {
   "codemirror_mode": {
    "name": "ipython",
    "version": 3
   },
   "file_extension": ".py",
   "mimetype": "text/x-python",
   "name": "python",
   "nbconvert_exporter": "python",
   "pygments_lexer": "ipython3",
   "version": "3.9.13"
  },
  "orig_nbformat": 4
 },
 "nbformat": 4,
 "nbformat_minor": 2
}
