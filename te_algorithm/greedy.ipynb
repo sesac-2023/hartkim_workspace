{
 "cells": [
  {
   "attachments": {},
   "cell_type": "markdown",
   "metadata": {},
   "source": [
    "### 알고리즘 문제풀이를 위한 셋팅"
   ]
  },
  {
   "cell_type": "code",
   "execution_count": 20,
   "metadata": {},
   "outputs": [],
   "source": [
    "# 500, 100, 50, 10\n",
    "def solution(N=1260):\n",
    "    answer = 0\n",
    "    # 전체 로직\n",
    "    # 1. 가장 큰 단위의 동전으로 거슬러 줄 수 있는 최대 동전 개수를 구한다.\n",
    "    now_coin = 500\n",
    "    while N >= now_coin: # 남은 금액이 현재 코인보다 클때동안만\n",
    "        N -= now_coin # 남은 금액\n",
    "        answer += 1 # 코인을 하나 사용\n",
    "    \n",
    "    print('--- 500원 ---')\n",
    "    print('남은 금액', N)\n",
    "    print('사용한 동전 개수', answer)\n",
    "\n",
    "    # 2. 그것을 정답에 더해주고, 남은 금액에 다음 단위의 코인을 가지고 1의 과정을 반복한다.\n",
    "    now_coin = 100\n",
    "    while N >= now_coin:\n",
    "        N -= now_coin\n",
    "        answer += 1\n",
    "\n",
    "    print('--- 100원 ---')\n",
    "    print('남은 금액', N)\n",
    "    print('사용한 동전 개수', answer)\n",
    "\n",
    "    now_coin = 50\n",
    "    while N >= now_coin:\n",
    "        N -= now_coin\n",
    "        answer += 1\n",
    "\n",
    "    print('--- 50원 ---')\n",
    "    print('남은 금액', N)\n",
    "    print('사용한 동전 개수', answer)\n",
    "\n",
    "    now_coin = 10\n",
    "    while N >= now_coin:\n",
    "        N -= now_coin\n",
    "        answer += 1\n",
    "\n",
    "    print('--- 10원 ---')\n",
    "    print('남은 금액', N)\n",
    "    print('사용한 동전 개수', answer)\n",
    "\n",
    "    # 3. 10원 짜리까지 진행하고 정답을 반환한다.\n",
    "    return answer"
   ]
  },
  {
   "cell_type": "code",
   "execution_count": 24,
   "metadata": {},
   "outputs": [],
   "source": [
    "def solution(N):\n",
    "    answer = 0\n",
    "    coins = [500, 100, 50, 10] # 순서 중요\n",
    "\n",
    "    for now_coin in coins:\n",
    "        while N >= now_coin:\n",
    "            N -= now_coin\n",
    "            answer += 1\n",
    "\n",
    "        print('--- {}원 ---'.format(now_coin))\n",
    "        print('남은 금액', N)\n",
    "        print('사용한 동전 개수', answer)\n",
    "\n",
    "    return answer"
   ]
  },
  {
   "cell_type": "code",
   "execution_count": 50,
   "metadata": {},
   "outputs": [],
   "source": [
    "def solution(N):\n",
    "    answer = 0\n",
    "    coins = [500, 100, 50, 10]\n",
    "\n",
    "    for now_coin in coins:\n",
    "        answer += N // now_coin # 나눈 몫 = 사용한 동전 개수\n",
    "        N %= now_coin # 나눈 나머지 = 남은 금액\n",
    "\n",
    "        # print('--- {}원 ---'.format(now_coin))\n",
    "        # print('남은 금액', N)\n",
    "        # print('사용한 동전 개수', answer)\n",
    "\n",
    "    return answer"
   ]
  },
  {
   "attachments": {},
   "cell_type": "markdown",
   "metadata": {},
   "source": [
    "#### TDD\n",
    "\n",
    "- 테스트 주도형 개발방식"
   ]
  },
  {
   "cell_type": "code",
   "execution_count": 31,
   "metadata": {},
   "outputs": [
    {
     "name": "stdout",
     "output_type": "stream",
     "text": [
      "--- 500원 ---\n",
      "남은 금액 260\n",
      "사용한 동전 개수 2\n",
      "--- 100원 ---\n",
      "남은 금액 60\n",
      "사용한 동전 개수 4\n",
      "--- 50원 ---\n",
      "남은 금액 10\n",
      "사용한 동전 개수 5\n",
      "--- 10원 ---\n",
      "남은 금액 0\n",
      "사용한 동전 개수 6\n",
      "테스트 성공\n"
     ]
    }
   ],
   "source": [
    "if solution(1260) == 6:\n",
    "    print('테스트 성공')\n",
    "else:\n",
    "    print('테스트 실패')"
   ]
  },
  {
   "cell_type": "code",
   "execution_count": 33,
   "metadata": {},
   "outputs": [
    {
     "name": "stdout",
     "output_type": "stream",
     "text": [
      "--- 500원 ---\n",
      "남은 금액 260\n",
      "사용한 동전 개수 2\n",
      "--- 100원 ---\n",
      "남은 금액 60\n",
      "사용한 동전 개수 4\n",
      "--- 50원 ---\n",
      "남은 금액 10\n",
      "사용한 동전 개수 5\n",
      "--- 10원 ---\n",
      "남은 금액 0\n",
      "사용한 동전 개수 6\n",
      "테스트 성공\n"
     ]
    }
   ],
   "source": [
    "assert solution(1260) == 6, \"테스트 실패\"\n",
    "\n",
    "print('테스트 성공')"
   ]
  },
  {
   "cell_type": "code",
   "execution_count": null,
   "metadata": {},
   "outputs": [],
   "source": []
  },
  {
   "attachments": {},
   "cell_type": "markdown",
   "metadata": {},
   "source": [
    "### 체육복 (Lv.1)"
   ]
  },
  {
   "cell_type": "code",
   "execution_count": 14,
   "metadata": {},
   "outputs": [],
   "source": [
    "def solution(n, lost, reserve:list):\n",
    "    answer = 0\n",
    "\n",
    "    # 자연어로 먼저 수도코드 작성\n",
    "    # 바로 앞번호의 학생이나 바로 뒷번호의 학생에게만 빌려줄 수 있음\n",
    "    \n",
    "    # 1. 잃어버린 학생을 한 명씩 번호를 확인한다.\n",
    "    # 2. 빌릴 수 있는 학생이 여벌 체육복 가져온 학생 목록에 있는지 체크\n",
    "    # 3. 빌렸으면, reserve 목록에서 제거 (중복해서 빌려주는 상황 방지)\n",
    "\n",
    "    # 그래도 못빌린 학생이 있으면, 전체 학생 수에서 못빌린 학생 수를 빼준게 정답이 됨.\n",
    "\n",
    "    # 그리디 요소?\n",
    "    # 잃어버린 학생의 앞번호 학생에게 먼저 빌리고\n",
    "    # 그 다음에 뒷 번호학생한테 빌린다.\n",
    "    # 체격순서대로 되어있기 때문\n",
    "\n",
    "    # 여벌 체육복을 가져왔는데, 도난당한 경우 두 목록에서 제외\n",
    "    \n",
    "    # 정렬이 되어있지 않은 경우가 있음.\n",
    "    lost.sort()\n",
    "\n",
    "    # 1번째 방법. 반복문\n",
    "    real_lost = [] # 진짜 잃어버린 학생들\n",
    "    for lost_student in lost: # 잃어버린 학생들을 한 명씩 확인하면서\n",
    "        if lost_student not in reserve: # 여벌 가져오지 않았으면,\n",
    "            real_lost.append(lost_student) # 진짜 잃어버린 학생에 추가\n",
    "        else: # 도난당했는데 가져왔으면,\n",
    "            reserve.remove(lost_student) # 빌려줄 수 있는 학생 목록에서 제거\n",
    "    \n",
    "    lost = real_lost\n",
    "    reserve = reserve\n",
    "    \n",
    "    # # 2번째 방법. set 자료형 (집합 연산)\n",
    "    # temp_lost = list(set(lost) - set(reserve))\n",
    "    # temp_reserve = list(set(reserve) - set(lost))\n",
    "    # lost = temp_lost\n",
    "    # reserve = temp_reserve\n",
    "\n",
    "    lost_length = len(lost) # 잃어버린 학생이 모두 빌리지 못했을 경우\n",
    "    # 빌릴때마다 1씩 빼주기\n",
    "    for lost_student in lost:\n",
    "        if lost_student - 1 in reserve:\n",
    "            # 앞번호 학생에게 빌릴 수 있으면,\n",
    "            # 빌렸으니 못빌린 학생 수 -1\n",
    "            lost_length -= 1\n",
    "            \n",
    "            # 빌렸으니 reserve 목록에서 제거\n",
    "            reserve.remove(lost_student - 1) # 값으로 요소 제거\n",
    "            # idx = reserve.index(lost_student - 1) # 인덱스 찾고\n",
    "            # reserve.pop(idx) # 인덱스로 제거\n",
    "\n",
    "        elif lost_student + 1 in reserve:\n",
    "            lost_length -= 1\n",
    "            reserve.remove(lost_student + 1)\n",
    "    \n",
    "    return n - lost_length # 최대 수업을 들을 수 있는 학생 수 = 전체 학생 수 - 결국 못 빌린 학생 수"
   ]
  },
  {
   "cell_type": "code",
   "execution_count": 15,
   "metadata": {},
   "outputs": [
    {
     "name": "stdout",
     "output_type": "stream",
     "text": [
      "[2, 4]\n",
      "테스트 성공\n"
     ]
    }
   ],
   "source": [
    "if solution(5, [2, 4], [1, 3, 5]) == 5:\n",
    "    print('테스트 성공')\n",
    "else:\n",
    "    print('테스트 실패')"
   ]
  },
  {
   "cell_type": "code",
   "execution_count": 16,
   "metadata": {},
   "outputs": [
    {
     "name": "stdout",
     "output_type": "stream",
     "text": [
      "[2, 4]\n",
      "[2, 4]\n",
      "[3]\n",
      "[2]\n",
      "테스트 성공\n"
     ]
    }
   ],
   "source": [
    "assert solution(5, [2, 4], [1, 3, 5]) == 5, \"테스트 실패\"\n",
    "assert solution(5, [2, 4], [3]) == 4, \"테스트 실패\"\n",
    "assert solution(3, [3], [1]) == 2, \"테스트 실패\"\n",
    "assert solution(4, [2, 3], [3, 4]) == 3, \"테스트 실패\"\n",
    "print('테스트 성공')"
   ]
  },
  {
   "cell_type": "code",
   "execution_count": null,
   "metadata": {},
   "outputs": [],
   "source": []
  },
  {
   "cell_type": "code",
   "execution_count": null,
   "metadata": {},
   "outputs": [],
   "source": []
  },
  {
   "cell_type": "code",
   "execution_count": 46,
   "metadata": {},
   "outputs": [
    {
     "name": "stdout",
     "output_type": "stream",
     "text": [
      "['1260', '3470']\n"
     ]
    }
   ],
   "source": [
    "# 파일 읽기\n",
    "with open('./input.txt', 'r') as f:\n",
    "    inputs = f.read()\n",
    "print(inputs.split('\\n\\n'))"
   ]
  },
  {
   "cell_type": "code",
   "execution_count": 47,
   "metadata": {},
   "outputs": [
    {
     "name": "stdout",
     "output_type": "stream",
     "text": [
      "['6', '13']\n"
     ]
    }
   ],
   "source": [
    "with open('./output.txt', 'r') as f:\n",
    "    outputs = f.read()\n",
    "print(outputs.split('\\n\\n'))"
   ]
  },
  {
   "cell_type": "code",
   "execution_count": 52,
   "metadata": {},
   "outputs": [
    {
     "name": "stdout",
     "output_type": "stream",
     "text": [
      "테스트 성공\n",
      "테스트 성공\n"
     ]
    }
   ],
   "source": [
    "for i, ipt in enumerate(inputs.split('\\n\\n')):\n",
    "    if solution(int(ipt)) == int(outputs.split('\\n\\n')[i]):\n",
    "        print('테스트 성공')\n",
    "    else:\n",
    "        print('테스트 실패')"
   ]
  },
  {
   "cell_type": "code",
   "execution_count": null,
   "metadata": {},
   "outputs": [],
   "source": []
  }
 ],
 "metadata": {
  "kernelspec": {
   "display_name": "base",
   "language": "python",
   "name": "python3"
  },
  "language_info": {
   "codemirror_mode": {
    "name": "ipython",
    "version": 3
   },
   "file_extension": ".py",
   "mimetype": "text/x-python",
   "name": "python",
   "nbconvert_exporter": "python",
   "pygments_lexer": "ipython3",
   "version": "3.9.13"
  },
  "orig_nbformat": 4
 },
 "nbformat": 4,
 "nbformat_minor": 2
}
