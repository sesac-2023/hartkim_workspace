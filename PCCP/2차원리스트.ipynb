{
 "cells": [
  {
   "cell_type": "code",
   "execution_count": 1,
   "metadata": {},
   "outputs": [],
   "source": [
    "matrix = [[3, 7, 9],\n",
    "\t\t      [4, 2, 6],\n",
    "\t    \t  [8, 1, 5]]"
   ]
  },
  {
   "cell_type": "code",
   "execution_count": 2,
   "metadata": {},
   "outputs": [
    {
     "name": "stdout",
     "output_type": "stream",
     "text": [
      "[3, 7, 9, 4, 2, 6, 8, 1, 5]\n"
     ]
    }
   ],
   "source": [
    "# 행고정 (행고정순회)\n",
    "\n",
    "trails = []  # 순회 궤적 담아줄 리스트\n",
    "\n",
    "for r in range(3):\n",
    "    for c in range(3):  # r 이 하나 고정된 상태에서 각각\n",
    "        trails.append(matrix[r][c])\n",
    "\n",
    "print(trails)  # [3, 7, 9, 4, 2, 6, 8, 1, 5]"
   ]
  },
  {
   "cell_type": "code",
   "execution_count": 7,
   "metadata": {},
   "outputs": [
    {
     "name": "stdout",
     "output_type": "stream",
     "text": [
      "[3, 4, 8, 7, 2, 1, 9, 6, 5]\n"
     ]
    }
   ],
   "source": [
    "# 열고정 (열고정순회)\n",
    "trails = []  # 순회 궤적 담아줄 리스트\n",
    "\n",
    "for r in range(3):\n",
    "    for c in range(3):  # r 이 하나 고정된 상태에서 각각\n",
    "        trails.append(matrix[c][r])\n",
    "\n",
    "\n",
    "\n",
    "print(trails)"
   ]
  },
  {
   "cell_type": "code",
   "execution_count": 1,
   "metadata": {},
   "outputs": [
    {
     "name": "stdout",
     "output_type": "stream",
     "text": [
      "[9, 7, 3, 6, 2, 4, 5, 1, 8]\n"
     ]
    }
   ],
   "source": [
    "# 역순 순회\n",
    "\n",
    "# 행으로 순회 하긴 하는데 열은 역순으로?\n",
    "matrix = [[3, 7, 9],\n",
    "\t\t      [4, 2, 6],\n",
    "\t    \t  [8, 1, 5]]\n",
    "\n",
    "trails = []  # 순회 궤적 담아줄 리스트\n",
    "\n",
    "for r in range(3):\n",
    "    for c in range(2, -1, -1):  # 역순인데, 새끼 리스트의 길이 - 1 시작!\n",
    "        trails.append(matrix[r][c])\n",
    "\n",
    "print(trails) # [9, 7, 3, 6, 2, 4, 5, 1, 8]"
   ]
  },
  {
   "cell_type": "code",
   "execution_count": 7,
   "metadata": {},
   "outputs": [
    {
     "ename": "ValueError",
     "evalue": "not enough values to unpack (expected 2, got 0)",
     "output_type": "error",
     "traceback": [
      "\u001b[1;31m---------------------------------------------------------------------------\u001b[0m",
      "\u001b[1;31mValueError\u001b[0m                                Traceback (most recent call last)",
      "Cell \u001b[1;32mIn[7], line 6\u001b[0m\n\u001b[0;32m      3\u001b[0m adj_matrix \u001b[39m=\u001b[39m [[\u001b[39m0\u001b[39m] \u001b[39m*\u001b[39m (V \u001b[39m+\u001b[39m \u001b[39m1\u001b[39m) \u001b[39mfor\u001b[39;00m _ \u001b[39min\u001b[39;00m \u001b[39mrange\u001b[39m(V \u001b[39m+\u001b[39m \u001b[39m1\u001b[39m)]  \u001b[39m# 인접행렬 기본틀 + 0번 포도알은 안씀\u001b[39;00m\n\u001b[0;32m      5\u001b[0m \u001b[39mfor\u001b[39;00m _ \u001b[39min\u001b[39;00m \u001b[39mrange\u001b[39m(E):  \u001b[39m# 간선 갯수만큼 돌면서 연결 정보를 받음\u001b[39;00m\n\u001b[1;32m----> 6\u001b[0m     start, end \u001b[39m=\u001b[39m \u001b[39mmap\u001b[39m(\u001b[39mint\u001b[39m, \u001b[39minput\u001b[39m()\u001b[39m.\u001b[39msplit())  \u001b[39m# 시작점과 끝점\u001b[39;00m\n\u001b[0;32m      7\u001b[0m     adj_matrix[start][end] \u001b[39m=\u001b[39m \u001b[39m1\u001b[39m\n\u001b[0;32m      8\u001b[0m     adj_matrix[end][start] \u001b[39m=\u001b[39m \u001b[39m1\u001b[39m  \u001b[39m# 양방향 그래프니까!!\u001b[39;00m\n",
      "\u001b[1;31mValueError\u001b[0m: not enough values to unpack (expected 2, got 0)"
     ]
    }
   ],
   "source": [
    "V, E = map(int, input().split())  # Vertex(포도알), Edge(선) 갯수\n",
    "\n",
    "adj_matrix = [[0] * (V + 1) for _ in range(V + 1)]  # 인접행렬 기본틀 + 0번 포도알은 안씀\n",
    "\n",
    "for _ in range(E):  # 간선 갯수만큼 돌면서 연결 정보를 받음\n",
    "    start, end = map(int, input().split())  # 시작점과 끝점\n",
    "    adj_matrix[start][end] = 1\n",
    "    adj_matrix[end][start] = 1  # 양방향 그래프니까!!\n",
    "\n",
    "# adj_matrix print 결과\n",
    "\n",
    "# [[0, 0, 0, 0, 0, 0, 0, 0],  => 0번 포도알은 존재하지 않음\n",
    "#  [0, 0, 1, 1, 0, 0, 0, 0],  => 1번 포도알은 2, 3번으로 갈 수 있음\n",
    "#  [0, 1, 0, 0, 1, 1, 0, 0],  => 2번 포도알은 1, 4, 5번 가능\n",
    "#  [0, 1, 0, 0, 0, 0, 0, 1],  => 3번 포도알은 1, 7번 가능\n",
    "#  [0, 0, 1, 0, 0, 0, 1, 0],  => 4번 포도알은 2, 6번 가능\n",
    "#  [0, 0, 1, 0, 0, 0, 1, 0],  => 5번 포도알은 2, 6번 가능\n",
    "#  [0, 0, 0, 0, 1, 1, 0, 1],  => 6번 포도알은 4, 5, 7번 가능\n",
    "#  [0, 0, 0, 1, 0, 0, 1, 0]]  => 7번 포도알은 3, 6번 가능"
   ]
  },
  {
   "cell_type": "code",
   "execution_count": null,
   "metadata": {},
   "outputs": [],
   "source": []
  }
 ],
 "metadata": {
  "kernelspec": {
   "display_name": "Python 3",
   "language": "python",
   "name": "python3"
  },
  "language_info": {
   "codemirror_mode": {
    "name": "ipython",
    "version": 3
   },
   "file_extension": ".py",
   "mimetype": "text/x-python",
   "name": "python",
   "nbconvert_exporter": "python",
   "pygments_lexer": "ipython3",
   "version": "3.11.4"
  },
  "orig_nbformat": 4
 },
 "nbformat": 4,
 "nbformat_minor": 2
}
