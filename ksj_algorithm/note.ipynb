{
 "cells": [
  {
   "cell_type": "code",
   "execution_count": null,
   "metadata": {},
   "outputs": [
    {
     "ename": "",
     "evalue": "",
     "output_type": "error",
     "traceback": [
      "\u001b[1;31mFailed to start the Kernel 'Python 3.9.9'. \n",
      "\u001b[1;31mView Jupyter <a href='command:jupyter.viewOutput'>log</a> for further details. listen EFAULT: bad address in system call argument 172.30.0.1:9008"
     ]
    }
   ],
   "source": [
    "def solution(array):\n",
    "    # 배열 길이의-1 만큼 도는 반복문 -> i\n",
    "\n",
    "    # [ 7 4 5 1 3 ]\n",
    "    # 배열 길이가 5일때 i가 0이라면, j는 0부터 3까지만 돈다.\n",
    "    # i = 0 \n",
    "    # j 는 range(4)\n",
    "\n",
    "    # [ 4 5 1 3 ] [ 7 ]\n",
    "    # i = 1\n",
    "    # j는 range(3)\n",
    "\n",
    "    # j는 0부터 range(len(array) - i - 1)\n",
    "\n",
    "    # 대소비교, j, j + 1 교환\n",
    "\n",
    "    for i in range(len(array)-1):\n",
    "        for j in range(len(array)-1-i):\n",
    "            # 다음 값이 더 크면,\n",
    "            if array[j] > array[j+1]:\n",
    "                # 교환\n",
    "                array[j], array[j+1] = array[j+1], array[j]\n",
    "    \n",
    "    return array"
   ]
  },
  {
   "cell_type": "code",
   "execution_count": null,
   "metadata": {},
   "outputs": [],
   "source": []
  }
 ],
 "metadata": {
  "kernelspec": {
   "display_name": "Python 3",
   "language": "python",
   "name": "python3"
  },
  "language_info": {
   "name": "python",
   "version": "3.9.9"
  },
  "orig_nbformat": 4
 },
 "nbformat": 4,
 "nbformat_minor": 2
}
