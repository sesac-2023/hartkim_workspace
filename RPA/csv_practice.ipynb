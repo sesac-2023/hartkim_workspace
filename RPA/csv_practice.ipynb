{
 "cells": [
  {
   "cell_type": "code",
   "execution_count": 2,
   "metadata": {},
   "outputs": [],
   "source": [
    "with open('./test.csv','w')as f: # r모드일 때 파일 없으면 에러 w모드이면 쓰기모드라서 파일이 생성이 된다.\n",
    "    f.write('33442\\t3333\\t23523') # tsv"
   ]
  },
  {
   "cell_type": "code",
   "execution_count": 4,
   "metadata": {},
   "outputs": [],
   "source": [
    "# w모드와 a모드의 차이\n",
    "# w모드 : 파일 아예 생성\n",
    "# a모드 : 기존데이터를 남겨두고 새로운 값을 추가해줄 때 a모드 사용\n",
    "with open('./test.csv','a') as f:\n",
    "    # data = f.readline()\n",
    "\n",
    "    f.write('444,1234,4414') # f.write()는 문자열로 넣어주기!"
   ]
  },
  {
   "cell_type": "markdown",
   "metadata": {},
   "source": [
    "## 실습2\n",
    "- CSV로 작성된 연도, 월별 판매데이터를 취합해 한 개의 CSV 파일에 연도, 월, 매출로 구성된 파일\n",
    "을 생성해주세요.  \n",
    "각 연도, 월별 판매 데이터에는 수강생명, 수강금액, 상담날짜, 강좌명으로 구성된 CSV 파일입니다.\n"
   ]
  },
  {
   "cell_type": "code",
   "execution_count": 25,
   "metadata": {},
   "outputs": [],
   "source": [
    "import os"
   ]
  },
  {
   "cell_type": "code",
   "execution_count": 28,
   "metadata": {},
   "outputs": [],
   "source": [
    "csv_path = './실습2/csv_files'"
   ]
  },
  {
   "cell_type": "code",
   "execution_count": 29,
   "metadata": {},
   "outputs": [
    {
     "data": {
      "text/plain": [
       "['2017.01.csv',\n",
       " '2017.02.csv',\n",
       " '2017.03.csv',\n",
       " '2017.04.csv',\n",
       " '2017.05.csv',\n",
       " '2017.06.csv',\n",
       " '2017.07.csv',\n",
       " '2017.08.csv',\n",
       " '2017.09.csv',\n",
       " '2017.10.csv',\n",
       " '2017.11.csv',\n",
       " '2017.12.csv']"
      ]
     },
     "execution_count": 29,
     "metadata": {},
     "output_type": "execute_result"
    }
   ],
   "source": [
    "os.listdir(csv_path)"
   ]
  },
  {
   "cell_type": "code",
   "execution_count": 36,
   "metadata": {},
   "outputs": [],
   "source": [
    "for i in range(len(os.listdir(csv_path))):\n",
    "    with open(csv_path+\"/\"+os.listdir(csv_path)[i],'r') as f:\n",
    "        hi = f.readline()"
   ]
  },
  {
   "cell_type": "code",
   "execution_count": 37,
   "metadata": {},
   "outputs": [
    {
     "data": {
      "text/plain": [
       "'수강생명,수강금액,상담날짜,강좌명\\n'"
      ]
     },
     "execution_count": 37,
     "metadata": {},
     "output_type": "execute_result"
    }
   ],
   "source": [
    "hi"
   ]
  },
  {
   "cell_type": "code",
   "execution_count": 23,
   "metadata": {},
   "outputs": [
    {
     "name": "stdout",
     "output_type": "stream",
     "text": [
      "['수강생명', '수강금액', '상담날짜', '강좌명\\n']\n"
     ]
    },
    {
     "ename": "TypeError",
     "evalue": "write() argument must be str, not map",
     "output_type": "error",
     "traceback": [
      "\u001b[1;31m---------------------------------------------------------------------------\u001b[0m",
      "\u001b[1;31mTypeError\u001b[0m                                 Traceback (most recent call last)",
      "Cell \u001b[1;32mIn[23], line 4\u001b[0m\n\u001b[0;32m      2\u001b[0m \u001b[39mprint\u001b[39m(a[i]\u001b[39m.\u001b[39msplit(\u001b[39m'\u001b[39m\u001b[39m,\u001b[39m\u001b[39m'\u001b[39m))\n\u001b[0;32m      3\u001b[0m \u001b[39mwith\u001b[39;00m \u001b[39mopen\u001b[39m(\u001b[39m'\u001b[39m\u001b[39m./summary.csv\u001b[39m\u001b[39m'\u001b[39m,\u001b[39m'\u001b[39m\u001b[39ma\u001b[39m\u001b[39m'\u001b[39m) \u001b[39mas\u001b[39;00m f:\n\u001b[1;32m----> 4\u001b[0m     f\u001b[39m.\u001b[39;49mwrite(\u001b[39mmap\u001b[39;49m(\u001b[39mstr\u001b[39;49m,a[i]\u001b[39m.\u001b[39;49msplit(\u001b[39m'\u001b[39;49m\u001b[39m,\u001b[39;49m\u001b[39m'\u001b[39;49m)))\n",
      "\u001b[1;31mTypeError\u001b[0m: write() argument must be str, not map"
     ]
    }
   ],
   "source": [
    "for i in range(len(a)):\n",
    "    print(a[i].split(','))\n",
    "    with open('./summary.csv','a') as f:\n",
    "        f.write(map(str,a[i].split(',')))"
   ]
  },
  {
   "cell_type": "code",
   "execution_count": 42,
   "metadata": {},
   "outputs": [],
   "source": [
    "BASE_DIR = './실습2/csv_files/'\n",
    "\n",
    "csv_files = os.listdir(BASE_DIR)"
   ]
  },
  {
   "cell_type": "code",
   "execution_count": 47,
   "metadata": {},
   "outputs": [],
   "source": [
    "# 파일 읽어오면 문자열이기 때문에 숫자로 형변환 해줘야한다.\n",
    "sell_data = []\n",
    "for cf in csv_files:\n",
    "    datas = open(BASE_DIR + cf,'r',encoding='cp949').readlines()\n",
    "    # 위와 동일한 내용\n",
    "    # with open(BASE_DIR + cf, 'r')as f:\n",
    "    #     f.readlines()\n",
    "    summation = 0\n",
    "    for l in datas[1:]:\n",
    "        money = int(l.split(',')[1])\n",
    "        summation+=money\n",
    "\n",
    "    year,month, _ = cf.split('.') # 안쓸거니까 _로 언패킹함\n",
    "\n",
    "    sell_data.append([year,month,summation])\n"
   ]
  },
  {
   "cell_type": "code",
   "execution_count": 48,
   "metadata": {},
   "outputs": [
    {
     "data": {
      "text/plain": [
       "[['2017', '01', 7240000],\n",
       " ['2017', '02', 7410000],\n",
       " ['2017', '03', 7550000],\n",
       " ['2017', '04', 7720000],\n",
       " ['2017', '05', 7950000],\n",
       " ['2017', '06', 7730000],\n",
       " ['2017', '07', 8000000],\n",
       " ['2017', '08', 7740000],\n",
       " ['2017', '09', 7940000],\n",
       " ['2017', '10', 7810000],\n",
       " ['2017', '11', 7320000],\n",
       " ['2017', '12', 8040000]]"
      ]
     },
     "execution_count": 48,
     "metadata": {},
     "output_type": "execute_result"
    }
   ],
   "source": [
    "sell_data"
   ]
  },
  {
   "cell_type": "code",
   "execution_count": 49,
   "metadata": {},
   "outputs": [],
   "source": [
    "with open(BASE_DIR + '../summary.csv','w') as f:\n",
    "    f.write('연도,월,매출\\n')\n",
    "\n",
    "    for sd in sell_data:\n",
    "        f.write(','.join(map(str,sd))+'\\n')"
   ]
  },
  {
   "cell_type": "code",
   "execution_count": null,
   "metadata": {},
   "outputs": [],
   "source": []
  }
 ],
 "metadata": {
  "kernelspec": {
   "display_name": "Python 3",
   "language": "python",
   "name": "python3"
  },
  "language_info": {
   "codemirror_mode": {
    "name": "ipython",
    "version": 3
   },
   "file_extension": ".py",
   "mimetype": "text/x-python",
   "name": "python",
   "nbconvert_exporter": "python",
   "pygments_lexer": "ipython3",
   "version": "3.11.4"
  },
  "orig_nbformat": 4
 },
 "nbformat": 4,
 "nbformat_minor": 2
}
