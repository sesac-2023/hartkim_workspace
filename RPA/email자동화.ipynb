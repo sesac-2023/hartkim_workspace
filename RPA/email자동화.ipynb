{
 "cells": [
  {
   "cell_type": "code",
   "execution_count": 1,
   "metadata": {},
   "outputs": [],
   "source": [
    "import email\n",
    "import smtplib"
   ]
  },
  {
   "cell_type": "code",
   "execution_count": 43,
   "metadata": {},
   "outputs": [],
   "source": [
    "with open('secret','r') as f:\n",
    "    secret = {l.split('=')[0]: l.split('=')[1].rstrip() for l in f.readlines()}"
   ]
  },
  {
   "cell_type": "code",
   "execution_count": 44,
   "metadata": {},
   "outputs": [
    {
     "data": {
      "text/plain": [
       "{'USER_ID': '',\n",
       " 'USER_PW': '',\n",
       " 'EMAIL_ID': 'sunj8234',\n",
       " 'EMAIL_PW': 'FLHF4T53MXME'}"
      ]
     },
     "execution_count": 44,
     "metadata": {},
     "output_type": "execute_result"
    }
   ],
   "source": [
    "secret"
   ]
  },
  {
   "cell_type": "code",
   "execution_count": 61,
   "metadata": {},
   "outputs": [],
   "source": [
    "SMTP_SERVER = 'smtp.naver.com'\n",
    "SMTP_PORT = 465\n",
    "SMTP_USER = secret['EMAIL_ID']\n",
    "# 실제 비밀번호 입력\n",
    "SMTP_PASSWORD = secret['EMAIL_PW']"
   ]
  },
  {
   "cell_type": "code",
   "execution_count": 64,
   "metadata": {},
   "outputs": [],
   "source": [
    "from email.mime.multipart import MIMEMultipart\n",
    "from email.mime.text import MIMEText\n",
    "# msg = MIMEMultipart('alternative') # text 이메일을 보낼 때\n",
    "msg = MIMEMultipart('mixed')\n",
    "\n",
    "msg['From'] = SMTP_USER +'@naver.com'\n",
    "# 보낼 이메일 주소\n",
    "target_addr = 'mhchoi1214@gmail.com'\n",
    "msg['To'] = target_addr\n",
    "subject = '헬루~' # 제목\n",
    "msg['Subject'] = subject\n",
    "contents = '배곺파요'\n",
    "text = MIMEText(contents) \n",
    "msg.attach(text)"
   ]
  },
  {
   "cell_type": "markdown",
   "metadata": {},
   "source": [
    "### 첨부파일 보내기"
   ]
  },
  {
   "cell_type": "code",
   "execution_count": 67,
   "metadata": {},
   "outputs": [],
   "source": [
    "# 위에랑 묶여서 보내고 싶지 않다면 이걸 다시한번 실행하고 보내기. 그럼 하나만 간다.\n",
    "\n",
    "from email.mime.multipart import MIMEMultipart\n",
    "from email.mime.text import MIMEText\n",
    "# msg = MIMEMultipart('alternative') # text 이메일을 보낼 때\n",
    "msg = MIMEMultipart('mixed')\n",
    "\n",
    "msg['From'] = SMTP_USER +'@naver.com'\n",
    "# 보낼 이메일 주소\n",
    "target_addr = 'sunj8234@naver.com'\n",
    "msg['To'] = target_addr\n",
    "subject = '헬루~' # 제목\n",
    "msg['Subject'] = subject\n",
    "contents = '배곺파요'\n",
    "text = MIMEText(contents) \n",
    "msg.attach(text)"
   ]
  },
  {
   "cell_type": "code",
   "execution_count": 68,
   "metadata": {},
   "outputs": [
    {
     "name": "stdout",
     "output_type": "stream",
     "text": [
      "log.xlsx\n"
     ]
    }
   ],
   "source": [
    "from email.mime.base import MIMEBase\n",
    "from email import encoders\n",
    "from os.path import basename\n",
    "email_file = MIMEBase('application', 'vnd.ms.excel') # octet-stream이 기본적인 것..\n",
    "\n",
    "file_path = './실습3/log.xlsx'\n",
    "\n",
    "with open(file_path, 'rb') as f:#file을 바이너리로 읽어서\n",
    "    file_data = f.read() # file_data에 넣어준다.\n",
    "\n",
    "email_file.set_payload(file_data)\n",
    "encoders.encode_base64(email_file)#인터넷 상에서 주고받을 수 있게 base64로 적는다. 파일 경로만 나온다.\n",
    "\n",
    "file_name = basename(file_path)\n",
    "print(file_name)\n",
    "email_file.add_header('Content-Disposition', 'attachment', filename=file_name) # 첨부파일이 있다고 그냥 알려주는거임\n",
    "msg.attach(email_file)"
   ]
  },
  {
   "cell_type": "code",
   "execution_count": 69,
   "metadata": {},
   "outputs": [],
   "source": [
    "smtp = smtplib.SMTP_SSL(SMTP_SERVER, SMTP_PORT)\n",
    "smtp.login(SMTP_USER, SMTP_PASSWORD)\n",
    "smtp.sendmail('sunj8234@naver.com', 'sunj8234@naver.com', msg.as_string()) # 받는사람들 여러명 이메일 리스트로 묶어서 하면 됨\n",
    "smtp.close()"
   ]
  },
  {
   "cell_type": "markdown",
   "metadata": {},
   "source": [
    "### 실습"
   ]
  },
  {
   "cell_type": "code",
   "execution_count": 79,
   "metadata": {},
   "outputs": [],
   "source": [
    "# - 앞에서 배운 메일 발송 로직을 하나의 함수로 만들기\n",
    "# 함수명은 자유롭게 해주세요.\n",
    "\n",
    "def send_mail(myemail :str,target:str):\n",
    "    from email.mime.multipart import MIMEMultipart\n",
    "    from email.mime.text import MIMEText\n",
    "    \n",
    "    SMTP_SERVER = 'smtp.naver.com'\n",
    "    SMTP_PORT = 465\n",
    "    \n",
    "    title = input('제목을 입력해주세요')\n",
    "    contentsvalue = input('보낼 내용을 입력해주세요')\n",
    "\n",
    "\n",
    "# msg = MIMEMultipart('alternative') # text 이메일을 보낼 때\n",
    "    msg = MIMEMultipart('mixed')\n",
    "\n",
    "    msg['From'] = myemail\n",
    "    # 보낼 이메일 주소\n",
    "    target_addr = target\n",
    "    msg['To'] = target_addr\n",
    "    subject = title # 제목\n",
    "    msg['Subject'] = subject\n",
    "    contents = contentsvalue\n",
    "    text = MIMEText(contents) \n",
    "    msg.attach(text)\n",
    "\n",
    "\n",
    "    smtp = smtplib.SMTP_SSL(SMTP_SERVER, SMTP_PORT)\n",
    "    smtp.login(SMTP_USER, SMTP_PASSWORD)\n",
    "    smtp.sendmail(myemail, target, msg.as_string()) # 받는사람들 여러명 이메일 리스트로 묶어서 하면 됨\n",
    "    smtp.close()   \n",
    "\n",
    "    return \n"
   ]
  },
  {
   "cell_type": "code",
   "execution_count": 76,
   "metadata": {},
   "outputs": [],
   "source": [
    "def hi(a,b):\n",
    "    return a+b"
   ]
  },
  {
   "cell_type": "code",
   "execution_count": 80,
   "metadata": {},
   "outputs": [
    {
     "ename": "NameError",
     "evalue": "name 'sunj8234' is not defined",
     "output_type": "error",
     "traceback": [
      "\u001b[1;31m---------------------------------------------------------------------------\u001b[0m",
      "\u001b[1;31mNameError\u001b[0m                                 Traceback (most recent call last)",
      "Cell \u001b[1;32mIn[80], line 1\u001b[0m\n\u001b[1;32m----> 1\u001b[0m send_mail(sunj8234\u001b[39m@naver\u001b[39m\u001b[39m.\u001b[39mcom,sunj8234\u001b[39m@naver\u001b[39m\u001b[39m.\u001b[39mcom)\n",
      "\u001b[1;31mNameError\u001b[0m: name 'sunj8234' is not defined"
     ]
    }
   ],
   "source": [
    "send_mail(sunj8234@naver.com,sunj8234@naver.com)"
   ]
  },
  {
   "cell_type": "code",
   "execution_count": null,
   "metadata": {},
   "outputs": [],
   "source": []
  }
 ],
 "metadata": {
  "kernelspec": {
   "display_name": "Python 3",
   "language": "python",
   "name": "python3"
  },
  "language_info": {
   "codemirror_mode": {
    "name": "ipython",
    "version": 3
   },
   "file_extension": ".py",
   "mimetype": "text/x-python",
   "name": "python",
   "nbconvert_exporter": "python",
   "pygments_lexer": "ipython3",
   "version": "3.11.4"
  },
  "orig_nbformat": 4
 },
 "nbformat": 4,
 "nbformat_minor": 2
}
