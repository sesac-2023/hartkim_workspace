{
 "cells": [
  {
   "cell_type": "code",
   "execution_count": 1,
   "metadata": {},
   "outputs": [
    {
     "name": "stdout",
     "output_type": "stream",
     "text": [
      "Collecting openpyxl\n",
      "  Downloading openpyxl-3.1.2-py2.py3-none-any.whl (249 kB)\n",
      "                                              0.0/250.0 kB ? eta -:--:--\n",
      "     ------------                            81.9/250.0 kB 2.3 MB/s eta 0:00:01\n",
      "     -------------------------------        204.8/250.0 kB 2.5 MB/s eta 0:00:01\n",
      "     -------------------------------------- 250.0/250.0 kB 2.6 MB/s eta 0:00:00\n",
      "Collecting et-xmlfile (from openpyxl)\n",
      "  Downloading et_xmlfile-1.1.0-py3-none-any.whl (4.7 kB)\n",
      "Installing collected packages: et-xmlfile, openpyxl\n",
      "Successfully installed et-xmlfile-1.1.0 openpyxl-3.1.2\n",
      "Note: you may need to restart the kernel to use updated packages.\n"
     ]
    },
    {
     "name": "stderr",
     "output_type": "stream",
     "text": [
      "\n",
      "[notice] A new release of pip is available: 23.1.2 -> 23.2.1\n",
      "[notice] To update, run: python.exe -m pip install --upgrade pip\n"
     ]
    }
   ],
   "source": [
    "%pip install openpyxl"
   ]
  },
  {
   "cell_type": "code",
   "execution_count": 2,
   "metadata": {},
   "outputs": [],
   "source": [
    "import openpyxl"
   ]
  },
  {
   "cell_type": "code",
   "execution_count": 3,
   "metadata": {},
   "outputs": [],
   "source": [
    "# 엑셀은 워크북과 시트로 이루어짐\n",
    "new_excel = openpyxl.Workbook()"
   ]
  },
  {
   "cell_type": "code",
   "execution_count": 4,
   "metadata": {},
   "outputs": [
    {
     "data": {
      "text/plain": [
       "<Worksheet \"엑셀 자동화\">"
      ]
     },
     "execution_count": 4,
     "metadata": {},
     "output_type": "execute_result"
    }
   ],
   "source": [
    "new_excel.create_sheet('엑셀 자동화')"
   ]
  },
  {
   "cell_type": "code",
   "execution_count": 5,
   "metadata": {},
   "outputs": [],
   "source": [
    "sheet = new_excel['엑셀 자동화'] #특정 시트를 선택함"
   ]
  },
  {
   "cell_type": "code",
   "execution_count": 6,
   "metadata": {},
   "outputs": [
    {
     "data": {
      "text/plain": [
       "<Worksheet \"엑셀 자동화\">"
      ]
     },
     "execution_count": 6,
     "metadata": {},
     "output_type": "execute_result"
    }
   ],
   "source": [
    "sheet"
   ]
  },
  {
   "cell_type": "code",
   "execution_count": 7,
   "metadata": {},
   "outputs": [],
   "source": [
    "new_excel.save('./excel_test.xlsx')"
   ]
  },
  {
   "cell_type": "code",
   "execution_count": null,
   "metadata": {},
   "outputs": [],
   "source": [
    "# xls 97-02까지 확장자 버전, 최신은 xlsx"
   ]
  },
  {
   "cell_type": "code",
   "execution_count": 9,
   "metadata": {},
   "outputs": [],
   "source": [
    "# 슬라이스처럼 셀 범위를 지정해서 가져올 수 있다.\n",
    "\n",
    "cells = sheet['A3':'B6']"
   ]
  },
  {
   "cell_type": "code",
   "execution_count": 10,
   "metadata": {},
   "outputs": [
    {
     "data": {
      "text/plain": [
       "((<Cell '엑셀 자동화'.A3>, <Cell '엑셀 자동화'.B3>),\n",
       " (<Cell '엑셀 자동화'.A4>, <Cell '엑셀 자동화'.B4>),\n",
       " (<Cell '엑셀 자동화'.A5>, <Cell '엑셀 자동화'.B5>),\n",
       " (<Cell '엑셀 자동화'.A6>, <Cell '엑셀 자동화'.B6>))"
      ]
     },
     "execution_count": 10,
     "metadata": {},
     "output_type": "execute_result"
    }
   ],
   "source": [
    "cells"
   ]
  },
  {
   "cell_type": "code",
   "execution_count": 18,
   "metadata": {},
   "outputs": [],
   "source": [
    "i = 0\n",
    "for row in cells:\n",
    "    for cell in row:\n",
    "        cell.value = i\n",
    "        i+=1"
   ]
  },
  {
   "cell_type": "code",
   "execution_count": 19,
   "metadata": {},
   "outputs": [],
   "source": [
    "new_excel.save('./excel_test.xlsx')"
   ]
  },
  {
   "cell_type": "code",
   "execution_count": 31,
   "metadata": {},
   "outputs": [],
   "source": [
    "# excel 파일 읽어올 때 wb라고 변수명을 많이 준다.\n",
    "wb = openpyxl.load_workbook('./excel_test.xlsx')"
   ]
  },
  {
   "cell_type": "code",
   "execution_count": 32,
   "metadata": {},
   "outputs": [],
   "source": [
    "# ws = worksheet\n",
    "ws = wb.active"
   ]
  },
  {
   "cell_type": "code",
   "execution_count": 33,
   "metadata": {},
   "outputs": [],
   "source": [
    "cells = ws['B3:C6']"
   ]
  },
  {
   "cell_type": "code",
   "execution_count": 34,
   "metadata": {},
   "outputs": [],
   "source": [
    "# 이거 하기 전에 A3:B6 범위 값을 B3:C6로 바꾼 후 저장해서 위에 wb load_workbook 코드부터 다시 돌려야함\n",
    "for row in cells: # 행 먼저\n",
    "    for cell in row:\n",
    "        cell.value = cell.value + 5\n",
    "\n",
    "wb.save('./excel_test2.xlsx')"
   ]
  },
  {
   "cell_type": "markdown",
   "metadata": {},
   "source": [
    "### 실습3"
   ]
  },
  {
   "cell_type": "code",
   "execution_count": 3,
   "metadata": {},
   "outputs": [],
   "source": [
    "# - 2017.12.1.xlsx ~ 2017.12.9.xlsx 엑셀 파일의 내용을 하나의 엑셀 파일에 취합해주세요.\n",
    "\n",
    "new_excel_1_9 = openpyxl.Workbook()"
   ]
  },
  {
   "cell_type": "code",
   "execution_count": 4,
   "metadata": {},
   "outputs": [
    {
     "data": {
      "text/plain": [
       "<Worksheet \"취합\">"
      ]
     },
     "execution_count": 4,
     "metadata": {},
     "output_type": "execute_result"
    }
   ],
   "source": [
    "new_excel_1_9.create_sheet('취합')"
   ]
  },
  {
   "cell_type": "code",
   "execution_count": 5,
   "metadata": {},
   "outputs": [],
   "source": [
    "sheet = new_excel_1_9['취합']"
   ]
  },
  {
   "cell_type": "code",
   "execution_count": 6,
   "metadata": {},
   "outputs": [
    {
     "data": {
      "text/plain": [
       "<Worksheet \"취합\">"
      ]
     },
     "execution_count": 6,
     "metadata": {},
     "output_type": "execute_result"
    }
   ],
   "source": [
    "sheet"
   ]
  },
  {
   "cell_type": "code",
   "execution_count": 7,
   "metadata": {},
   "outputs": [],
   "source": [
    "new_excel_1_9.save('./excel_ch.xlsx')"
   ]
  },
  {
   "cell_type": "code",
   "execution_count": 15,
   "metadata": {},
   "outputs": [],
   "source": [
    "csv_path = './실습3'"
   ]
  },
  {
   "cell_type": "code",
   "execution_count": 9,
   "metadata": {},
   "outputs": [],
   "source": [
    "import os"
   ]
  },
  {
   "cell_type": "code",
   "execution_count": 16,
   "metadata": {},
   "outputs": [],
   "source": [
    "csv_files = os.listdir(csv_path)"
   ]
  },
  {
   "cell_type": "code",
   "execution_count": 17,
   "metadata": {},
   "outputs": [
    {
     "data": {
      "text/plain": [
       "['2017.12.1.xlsx',\n",
       " '2017.12.2.xlsx',\n",
       " '2017.12.3.xlsx',\n",
       " '2017.12.4.xlsx',\n",
       " '2017.12.5.xlsx',\n",
       " '2017.12.6.xlsx',\n",
       " '2017.12.7.xlsx',\n",
       " '2017.12.8.xlsx',\n",
       " '2017.12.9.xlsx']"
      ]
     },
     "execution_count": 17,
     "metadata": {},
     "output_type": "execute_result"
    }
   ],
   "source": [
    "csv_files"
   ]
  },
  {
   "cell_type": "code",
   "execution_count": 19,
   "metadata": {},
   "outputs": [],
   "source": [
    "wb = openpyxl.load_workbook('./실습3/2017.12.1.xlsx')"
   ]
  },
  {
   "cell_type": "code",
   "execution_count": 24,
   "metadata": {},
   "outputs": [],
   "source": [
    "target_sheet = wb.active"
   ]
  },
  {
   "cell_type": "code",
   "execution_count": 25,
   "metadata": {},
   "outputs": [
    {
     "data": {
      "text/plain": [
       "<Worksheet \"Sheet\">"
      ]
     },
     "execution_count": 25,
     "metadata": {},
     "output_type": "execute_result"
    }
   ],
   "source": [
    "target_sheet"
   ]
  },
  {
   "cell_type": "code",
   "execution_count": 12,
   "metadata": {},
   "outputs": [
    {
     "name": "stdout",
     "output_type": "stream",
     "text": [
      "0\n",
      "1\n",
      "2\n",
      "3\n",
      "4\n",
      "5\n",
      "6\n",
      "7\n",
      "8\n",
      "9\n",
      "10\n",
      "11\n"
     ]
    }
   ],
   "source": [
    "for re in range(len(csv_files)):\n",
    "    "
   ]
  },
  {
   "cell_type": "code",
   "execution_count": null,
   "metadata": {},
   "outputs": [],
   "source": [
    "# 1-10 까지 일때 순서가 1,10,2,3,... 이렇게 된다 어떻게 해결할지 생각해보기"
   ]
  },
  {
   "cell_type": "code",
   "execution_count": 33,
   "metadata": {},
   "outputs": [],
   "source": [
    "## 강사님거\n",
    "\n",
    "import os\n",
    "# 1 os.listdir()로 excel 파일 목록 가져오기\n",
    "excel_files = os.listdir('./실습3/')\n",
    "\n",
    "# 데이터를 적을 새로운 엑셀을 생성\n",
    "log_excel = openpyxl.Workbook()\n",
    "log_sheet = log_excel.active\n",
    "\n",
    "# 2. 엑셀파일을 하나씩 열어서 각 cell의 값들을 확인\n",
    "row_index = 1\n",
    "for excel_file in excel_files:\n",
    "    wb = openpyxl.load_workbook('./실습3/' + excel_file) # load_workbook(excel_file) 이런식으로 적으면 위치를 못찾음 경로도 같이 줘야함\n",
    "    ws = wb.active\n",
    "    cells = ws['A1:C24']\n",
    "\n",
    "    for row in cells:\n",
    "        # values = [cell.value for cell in row] # cell 의 값들\n",
    "        # 1. append 로 추가\n",
    "        # log_sheet.append(values)\n",
    "\n",
    "        # 2. row index 행으로 쌓아주기. 행 숫자가 늘어나는건 어디 행에 작성할건지만 알고있으면 된다.\n",
    "        #row_index = 1\n",
    "        for log_row in log_sheet[f'A{row_index}:C{row_index}']:\n",
    "            for i, cell in enumerate(row):\n",
    "                cell.value = row[i].value\n",
    "            row_index += 1 # 행별로 계속 추가\n",
    "\n",
    "\n",
    "# 데이터 저장 \n",
    "log_excel.save('./실습3/log.xlsx')"
   ]
  },
  {
   "cell_type": "code",
   "execution_count": 31,
   "metadata": {},
   "outputs": [],
   "source": []
  },
  {
   "cell_type": "code",
   "execution_count": null,
   "metadata": {},
   "outputs": [],
   "source": []
  }
 ],
 "metadata": {
  "kernelspec": {
   "display_name": "Python 3",
   "language": "python",
   "name": "python3"
  },
  "language_info": {
   "codemirror_mode": {
    "name": "ipython",
    "version": 3
   },
   "file_extension": ".py",
   "mimetype": "text/x-python",
   "name": "python",
   "nbconvert_exporter": "python",
   "pygments_lexer": "ipython3",
   "version": "3.11.4"
  },
  "orig_nbformat": 4
 },
 "nbformat": 4,
 "nbformat_minor": 2
}
